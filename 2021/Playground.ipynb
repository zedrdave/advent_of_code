{
 "cells": [
  {
   "cell_type": "code",
   "execution_count": 22,
   "metadata": {},
   "outputs": [],
   "source": [
    "from aocd import get_data, submit\n",
    "from collections import defaultdict\n",
    "import numpy as np\n",
    "import sys\n",
    "import itertools\n",
    "from collections import defaultdict, Counter\n",
    "from tqdm.auto import tqdm\n",
    "\n",
    "import re\n",
    "\n",
    "day = 23\n",
    "year = 2021\n",
    "\n",
    "data = get_data(day=day, year=year)"
   ]
  },
  {
   "cell_type": "code",
   "execution_count": 1,
   "metadata": {},
   "outputs": [],
   "source": [
    "data = \"\"\"#############\n",
    "#...........#\n",
    "###B#C#B#D###\n",
    "  #A#D#C#A#\n",
    "  #########\"\"\""
   ]
  },
  {
   "cell_type": "code",
   "execution_count": 35,
   "metadata": {},
   "outputs": [
    {
     "name": "stdout",
     "output_type": "stream",
     "text": [
      "...........\n",
      "  B C B D  \n",
      "  A D C A  \n"
     ]
    }
   ],
   "source": [
    "between = lambda a, b: range(a+1, b+1) if a < b else range(a-1, b-1, -1)\n",
    "is_cave = lambda i: i in (2, 4, 6, 8)\n",
    "\n",
    "def print_spots_caves(spots, caves):\n",
    "    print(''.join(s or '.' for s in spots))\n",
    "    for i in (0,1):\n",
    "        print('  ' + ' '.join(c[i] for c in caves) + '  ')\n"
   ]
  },
  {
   "cell_type": "code",
   "execution_count": 36,
   "metadata": {},
   "outputs": [],
   "source": [
    "spots = [''] * 11\n",
    "caves = [['B', 'A'], ['C', 'D'], ['B', 'C'], ['D', 'A']]\n",
    "\n",
    "\n",
    "def move_amph(spots, caves, start, end):\n",
    "    if any(spots[i] for i in between(start, end)):\n",
    "        return False\n",
    "    if is_cave(start):\n",
    "        amphi = caves[start//2 - 1][0]\n",
    "        dist = 3 - len(caves[start//2 - 1])\n",
    "    else:\n",
    "        amphi = spots[start]\n",
    "        dist = 0\n",
    "    dist += abs(start - end)\n",
    "    if is_cave(end):\n",
    "        if len(caves[end//2 - 1]) and caves[end//2 - 1][0] != amphi:\n",
    "            return False\n",
    "        \n",
    "        dist += 2 - len(caves[end//2 - 1])\n",
    "        caves[end//2 - 1].insert(0, amphi)\n",
    "    else:\n",
    "        spots[end] = amphi\n",
    "    if is_cave(start):\n",
    "        caves[start//2 - 1].pop(0)\n",
    "    else:\n",
    "        spots[start] = 0\n",
    "        \n",
    "    return spots, caves, ({'A': 1, 'B': 10, 'C': 100, 'D': 1000}[amphi] * dist)\n",
    "\n"
   ]
  },
  {
   "cell_type": "code",
   "execution_count": 37,
   "metadata": {},
   "outputs": [
    {
     "name": "stdout",
     "output_type": "stream",
     "text": [
      "...........\n",
      "  B C B D  \n",
      "  A D C A  \n",
      "...B.......\n",
      "  A C B D  \n"
     ]
    },
    {
     "ename": "IndexError",
     "evalue": "list index out of range",
     "output_type": "error",
     "traceback": [
      "\u001b[0;31m---------------------------------------------------------------------------\u001b[0m",
      "\u001b[0;31mIndexError\u001b[0m                                Traceback (most recent call last)",
      "Cell \u001b[0;32mIn[37], line 5\u001b[0m\n\u001b[1;32m      1\u001b[0m print_spots_caves(spots, caves)\n\u001b[1;32m      3\u001b[0m ret \u001b[39m=\u001b[39m move_amph(spots, caves, \u001b[39m2\u001b[39m, \u001b[39m3\u001b[39m)\n\u001b[0;32m----> 5\u001b[0m print_spots_caves(spots, caves)\n",
      "Cell \u001b[0;32mIn[35], line 10\u001b[0m, in \u001b[0;36mprint_spots_caves\u001b[0;34m(spots, caves)\u001b[0m\n\u001b[1;32m      8\u001b[0m \u001b[39mprint\u001b[39m(\u001b[39m'\u001b[39m\u001b[39m'\u001b[39m\u001b[39m.\u001b[39mjoin(s \u001b[39mor\u001b[39;00m \u001b[39m'\u001b[39m\u001b[39m.\u001b[39m\u001b[39m'\u001b[39m \u001b[39mfor\u001b[39;00m s \u001b[39min\u001b[39;00m spots))\n\u001b[1;32m      9\u001b[0m \u001b[39mfor\u001b[39;00m i \u001b[39min\u001b[39;00m (\u001b[39m0\u001b[39m,\u001b[39m1\u001b[39m):\n\u001b[0;32m---> 10\u001b[0m     \u001b[39mprint\u001b[39m(\u001b[39m'\u001b[39m\u001b[39m  \u001b[39m\u001b[39m'\u001b[39m \u001b[39m+\u001b[39m \u001b[39m'\u001b[39;49m\u001b[39m \u001b[39;49m\u001b[39m'\u001b[39;49m\u001b[39m.\u001b[39;49mjoin(c[i] \u001b[39mfor\u001b[39;49;00m c \u001b[39min\u001b[39;49;00m caves) \u001b[39m+\u001b[39m \u001b[39m'\u001b[39m\u001b[39m  \u001b[39m\u001b[39m'\u001b[39m)\n",
      "Cell \u001b[0;32mIn[35], line 10\u001b[0m, in \u001b[0;36m<genexpr>\u001b[0;34m(.0)\u001b[0m\n\u001b[1;32m      8\u001b[0m \u001b[39mprint\u001b[39m(\u001b[39m'\u001b[39m\u001b[39m'\u001b[39m\u001b[39m.\u001b[39mjoin(s \u001b[39mor\u001b[39;00m \u001b[39m'\u001b[39m\u001b[39m.\u001b[39m\u001b[39m'\u001b[39m \u001b[39mfor\u001b[39;00m s \u001b[39min\u001b[39;00m spots))\n\u001b[1;32m      9\u001b[0m \u001b[39mfor\u001b[39;00m i \u001b[39min\u001b[39;00m (\u001b[39m0\u001b[39m,\u001b[39m1\u001b[39m):\n\u001b[0;32m---> 10\u001b[0m     \u001b[39mprint\u001b[39m(\u001b[39m'\u001b[39m\u001b[39m  \u001b[39m\u001b[39m'\u001b[39m \u001b[39m+\u001b[39m \u001b[39m'\u001b[39m\u001b[39m \u001b[39m\u001b[39m'\u001b[39m\u001b[39m.\u001b[39mjoin(c[i] \u001b[39mfor\u001b[39;00m c \u001b[39min\u001b[39;00m caves) \u001b[39m+\u001b[39m \u001b[39m'\u001b[39m\u001b[39m  \u001b[39m\u001b[39m'\u001b[39m)\n",
      "\u001b[0;31mIndexError\u001b[0m: list index out of range"
     ]
    }
   ],
   "source": [
    "print_spots_caves(spots, caves)\n",
    "\n",
    "ret = move_amph(spots, caves, 2, 3)\n",
    "\n",
    "print_spots_caves(spots, caves)"
   ]
  }
 ],
 "metadata": {
  "kernelspec": {
   "display_name": "Python 3",
   "language": "python",
   "name": "python3"
  },
  "language_info": {
   "codemirror_mode": {
    "name": "ipython",
    "version": 3
   },
   "file_extension": ".py",
   "mimetype": "text/x-python",
   "name": "python",
   "nbconvert_exporter": "python",
   "pygments_lexer": "ipython3",
   "version": "3.9.16"
  },
  "vscode": {
   "interpreter": {
    "hash": "397704579725e15f5c7cb49fe5f0341eb7531c82d19f2c29d197e8b64ab5776b"
   }
  }
 },
 "nbformat": 4,
 "nbformat_minor": 4
}
