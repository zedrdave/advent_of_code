{
 "cells": [
  {
   "cell_type": "code",
   "execution_count": 48,
   "metadata": {},
   "outputs": [],
   "source": [
    "from aocd import get_data, submit\n",
    "from collections import defaultdict\n",
    "import numpy as np\n",
    "import sys\n",
    "import itertools\n",
    "from collections import defaultdict, Counter\n",
    "from tqdm.auto import tqdm\n",
    "\n",
    "import re\n",
    "\n",
    "day = 25\n",
    "year = 2021\n",
    "\n",
    "data = get_data(day=day, year=year)\n"
   ]
  },
  {
   "cell_type": "code",
   "execution_count": 55,
   "metadata": {},
   "outputs": [],
   "source": [
    "data = \"\"\"v...>>.vv>\n",
    ".vv>>.vv..\n",
    ">>.>v>...v\n",
    ">>v>>.>.v.\n",
    "v>v.vv.v..\n",
    ">.>>..v...\n",
    ".vv..>.>v.\n",
    "v.v..>>v.v\n",
    "....v..v.>\"\"\""
   ]
  },
  {
   "cell_type": "code",
   "execution_count": 56,
   "metadata": {},
   "outputs": [],
   "source": [
    "def print_grid(grid):\n",
    "    for j in range(dims[1]):\n",
    "        for i in range(dims[0]):\n",
    "            vec = grid.get((i, j), (0, 0))\n",
    "            print({(0,0):'.', (0,1):'v', (1,0):'>'}[vec], end=\"\")\n",
    "        print()"
   ]
  },
  {
   "cell_type": "code",
   "execution_count": 62,
   "metadata": {},
   "outputs": [
    {
     "name": "stdout",
     "output_type": "stream",
     "text": [
      "Solution: 58\n"
     ]
    }
   ],
   "source": [
    "grid = {(x, y):{'v':(0,1), '>': (1,0)}[c] \n",
    "        for y, line in enumerate(data.splitlines())\n",
    "        for x, c in enumerate(line) if c != \".\"}\n",
    "\n",
    "dims = len(data.splitlines()[0]), len(data.splitlines())\n",
    "move = lambda x, y, dx, dy: ((x+dx) % dims[0], (y+dy) % dims[1])\n",
    "\n",
    "# print_grid(grid)\n",
    "\n",
    "for i in range(1, 1000):\n",
    "    new_grid = grid\n",
    "    for vec_ref in ((1,0), (0,1)):\n",
    "        new_grid = {(move(*pos, *vec) if (vec == vec_ref) \n",
    "                     and (move(*pos, *vec) not in new_grid) else pos):vec \n",
    "                    for pos,vec in new_grid.items()}\n",
    "\n",
    "    if grid == new_grid:\n",
    "        break\n",
    "    grid = new_grid\n",
    "    \n",
    "print(\"Solution:\", i)\n",
    "# print_grid(grid)\n",
    "\n",
    "# 507"
   ]
  },
  {
   "cell_type": "code",
   "execution_count": null,
   "metadata": {},
   "outputs": [],
   "source": []
  }
 ],
 "metadata": {
  "kernelspec": {
   "display_name": "Python 3",
   "language": "python",
   "name": "python3"
  },
  "language_info": {
   "codemirror_mode": {
    "name": "ipython",
    "version": 3
   },
   "file_extension": ".py",
   "mimetype": "text/x-python",
   "name": "python",
   "nbconvert_exporter": "python",
   "pygments_lexer": "ipython3",
   "version": "3.11.0"
  },
  "vscode": {
   "interpreter": {
    "hash": "5c7b89af1651d0b8571dde13640ecdccf7d5a6204171d6ab33e7c296e100e08a"
   }
  }
 },
 "nbformat": 4,
 "nbformat_minor": 4
}
