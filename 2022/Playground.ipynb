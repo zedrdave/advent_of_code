{
 "cells": [
  {
   "cell_type": "code",
   "execution_count": 6,
   "metadata": {},
   "outputs": [
    {
     "name": "stderr",
     "output_type": "stream",
     "text": [
      "/usr/local/lib/python3.10/site-packages/tqdm/auto.py:22: TqdmWarning: IProgress not found. Please update jupyter and ipywidgets. See https://ipywidgets.readthedocs.io/en/stable/user_install.html\n",
      "  from .autonotebook import tqdm as notebook_tqdm\n"
     ]
    }
   ],
   "source": [
    "\n",
    "from aocd import get_data, submit\n",
    "import numpy as np\n",
    "import sys\n",
    "import itertools\n",
    "from collections import defaultdict, Counter\n",
    "import re\n",
    "from tqdm.auto import tqdm\n",
    "\n",
    "day = 25\n",
    "year = 2022\n",
    "\n",
    "data = get_data(day=day, year=year)\n",
    "\n",
    "# data = '\\n'.join(re.split(r'[\\.|:|\\n]', data))\n",
    "# data = \">>><<><>><<<>><>>><<<>>><<<><<<>><>><<>>\"\n",
    "# print(data)\n",
    "\n",
    "# face_dim = 50\n",
    "# data"
   ]
  },
  {
   "cell_type": "code",
   "execution_count": 7,
   "metadata": {
    "tags": [
     "data"
    ]
   },
   "outputs": [],
   "source": [
    "data = \"\"\"        ...#\n",
    "        .#..\n",
    "        #...\n",
    "        ....\n",
    "...#.......#\n",
    "........#...\n",
    "..#....#....\n",
    "..........#.\n",
    "        ...#....\n",
    "        .....#..\n",
    "        .#......\n",
    "        ......#.\n",
    "\n",
    "10R5L5R10L4R5L5\"\"\"\n",
    "\n",
    "face_dim = 4\n"
   ]
  },
  {
   "cell_type": "code",
   "execution_count": 8,
   "metadata": {},
   "outputs": [
    {
     "data": {
      "text/plain": [
       "['10', 'R', '5', 'L', '5', 'R', '10', 'L', '4', 'R', '5', 'L', '5']"
      ]
     },
     "execution_count": 8,
     "metadata": {},
     "output_type": "execute_result"
    }
   ],
   "source": [
    "grid, insts = data.split(\"\\n\\n\")\n",
    "\n",
    "insts = re.split(r\"(L|R)\", insts)\n",
    "grid = {(i,j):v for j,l in enumerate(grid.split('\\n')) for i,v in enumerate(l) if v != ' '}\n",
    "\n",
    "insts"
   ]
  },
  {
   "cell_type": "code",
   "execution_count": 1,
   "metadata": {},
   "outputs": [
    {
     "ename": "NameError",
     "evalue": "name 'data' is not defined",
     "output_type": "error",
     "traceback": [
      "\u001b[0;31m---------------------------------------------------------------------------\u001b[0m",
      "\u001b[0;31mNameError\u001b[0m                                 Traceback (most recent call last)",
      "Cell \u001b[0;32mIn[1], line 1\u001b[0m\n\u001b[0;32m----> 1\u001b[0m \u001b[39m*\u001b[39mgrid, _\u001b[39m.\u001b[39m insts \u001b[39m=\u001b[39m data\u001b[39m.\u001b[39msplit(\u001b[39m\"\u001b[39m\u001b[39m\\n\u001b[39;00m\u001b[39m\"\u001b[39m)\n",
      "\u001b[0;31mNameError\u001b[0m: name 'data' is not defined"
     ]
    }
   ],
   "source": []
  },
  {
   "cell_type": "code",
   "execution_count": 157,
   "metadata": {},
   "outputs": [
    {
     "name": "stdout",
     "output_type": "stream",
     "text": [
      "(2, (3, 2))\n",
      "(3, (3, 2))\n"
     ]
    }
   ],
   "source": [
    "rotations = np.array((\n",
    " ((1,   0,  0),\n",
    "  (0,   0,  -1),\n",
    "  (0,   1,  0)),\n",
    " \n",
    " ((0,   0,  1),\n",
    "  (0,   1,  0),\n",
    "  (-1,  0,  0)),\n",
    " \n",
    " ((0,   -1, 0),\n",
    "  (1,   0,  0),\n",
    "  (0,   0,  1))\n",
    "))\n",
    "\n",
    "faces = {(ii,jj) for ii in range(4) for jj in range(4) if (ii*face_dim, jj*face_dim) in grid}\n",
    "\n",
    "dirs = ((1,0), (0,1), (-1, 0), (0, -1))\n",
    "move = lambda p,d: ((p[0]+d[0]), (p[1]+d[1]))\n",
    "\n",
    "move3d = lambda u, dir: (next(r.T if o == 1 else r\n",
    "                              for o,r in zip(dir, rotations) \n",
    "                              if o != 0) @ u.T).T\n",
    "\n",
    "def rotate_match(axes, target):\n",
    "  if (axes == target).all():\n",
    "    return 0\n",
    "  for i in range(1, 4):\n",
    "    axes = move3d(axes, axes[0])\n",
    "    if (axes == target).all():\n",
    "      return i\n",
    "  return False\n",
    "\n",
    "\n",
    "def search_face(faces, cur_face, axes, target_axes, prev_face=None):\n",
    "  r = rotate_match(axes, target_axes)\n",
    "  if r is not False:\n",
    "    return r, cur_face\n",
    "  directions = (axes[1]-axes[0], axes[2]-axes[0], axes[0]-axes[1], axes[0]-axes[2])\n",
    "  for i, dir in enumerate(dirs):\n",
    "    next_face = tuple(a+b for a,b in zip(cur_face,dir))\n",
    "    # print(next_face)\n",
    "    if (next_face == prev_face) or (next_face not in faces):\n",
    "      continue\n",
    "    r, face = search_face(faces, next_face, move3d(axes, directions[i]), target_axes, cur_face)\n",
    "    if r is not False:\n",
    "      return r, face\n",
    "  return False, False    \n",
    "\n",
    "def neighbour(faces, face_from, dir):\n",
    "  axes = np.array(((0, 0, 1), (1, 0, 1), (0, 1, 1)))\n",
    "  directions = (axes[1]-axes[0], axes[2]-axes[0], axes[0]-axes[1], axes[0]-axes[2])\n",
    "  target = move3d(axes, directions[dir])\n",
    "  return search_face(faces, face_from, axes, target)\n",
    "\n",
    "\n",
    "print(neighbour(faces, face_from=(2,0), dir=0))\n",
    "print(neighbour(faces, face_from=(0,1), dir=2))\n",
    "\n",
    "# (2, (1, 2))\n",
    "# (1, (0, 3))"
   ]
  },
  {
   "cell_type": "code",
   "execution_count": 158,
   "metadata": {},
   "outputs": [],
   "source": [
    "# move_m = lambda p,d,b: ((p[0]+d[0])%b, (p[1]+d[1])%b)\n",
    "\n",
    "# curdir = 0\n",
    "# curpos = min(p for p in grid if p[1] == 0)\n",
    "\n",
    "# for i in range(face_dim):\n",
    "#     for j in range(face_dim):\n",
    "#         if (i,j) in faces:\n",
    "#             for d in range(len(dirs)):\n",
    "#                 if (i+dirs[d][0], j+dirs[d][1]) not in faces:\n",
    "#                     r, n = neighbour(faces, (i, j), d)\n",
    "#                     assert n, ((i,j), d)\n",
    "\n"
   ]
  },
  {
   "cell_type": "code",
   "execution_count": 159,
   "metadata": {},
   "outputs": [],
   "source": [
    "tiles = {'.': '⬜️', '#': '🟥', ' ': '⬛️'}\n",
    "\n",
    "def print_grid(grid, curpos=None, curdir=4, bounds_i=None, bounds_j=None):\n",
    "    if bounds_i is None:\n",
    "        bounds_i = 0, max(i for i,_ in grid)+1\n",
    "    if bounds_j is None:\n",
    "        bounds_j = 0, max(j for _,j in grid)+1\n",
    "    \n",
    "    for j in range(*bounds_j):\n",
    "        for i in range(*bounds_i):\n",
    "            if curpos is not None and curpos == (i,j):\n",
    "                if grid.get(curpos, False) != '.':\n",
    "                    print(\"?\", end=\"\")\n",
    "                    continue\n",
    "                    # print(\"ERROR: curpos not empty:\", curpos, grid.get(curpos, False))\n",
    "                    # print_grid(grid)\n",
    "                # assert grid.get(curpos) == '.', (curpos, grid.get(curpos), grid)\n",
    "                print([\"⏩\", \"🔽\", \"⏪\", \"🔼\", \"🤓\"][curdir], end=\"\")\n",
    "                # print(\"🤓\", end=\"\")\n",
    "            else:\n",
    "                print(tiles[grid.get((i,j), ' ')], end=\"\")\n",
    "        print(\"\")\n",
    "    print(\"\")"
   ]
  },
  {
   "cell_type": "code",
   "execution_count": null,
   "metadata": {},
   "outputs": [],
   "source": []
  },
  {
   "cell_type": "code",
   "execution_count": 161,
   "metadata": {},
   "outputs": [
    {
     "name": "stdout",
     "output_type": "stream",
     "text": [
      "5031\n"
     ]
    }
   ],
   "source": [
    "move = lambda p,d: ((p[0]+d[0]), (p[1]+d[1]))\n",
    "rot_ij_90 = lambda i, j: (face_dim-1-j, i)\n",
    "rot_ij = lambda i, j, r: rot_ij(*rot_ij_90(i, j), r-1) if r > 0 else (i, j)\n",
    "\n",
    "# dirs = ((1,0), (0,1), (-1, 0), (0, -1))\n",
    "curdir = 0\n",
    "curpos = min(p for p in grid if p[1] == 0)\n",
    "\n",
    "# print_grid(grid , curpos, curdir)\n",
    "\n",
    "for i,inst in enumerate(insts):\n",
    "    if inst in 'RL':\n",
    "        curdir = (curdir + (1 if inst == \"R\" else -1)) % 4\n",
    "    else:\n",
    "        inst = int(inst)\n",
    "            \n",
    "        for _ in range(inst):\n",
    "            nextpos = move(curpos, dirs[curdir])\n",
    "            if nextpos not in grid:\n",
    "                p = (curpos[0]//face_dim, curpos[1]//face_dim)\n",
    "                r, face = neighbour(faces, p, curdir)\n",
    "                nextpos = rot_ij(nextpos[0]%face_dim, nextpos[1]%face_dim, 4-r)\n",
    "                nextpos = (face[0]*face_dim + nextpos[0], face[1]*face_dim + nextpos[1])\n",
    "                if grid[nextpos] != '#':\n",
    "                    curdir = (curdir-r) % 4\n",
    "            if grid[nextpos] == '#':\n",
    "                break\n",
    "            curpos = nextpos\n",
    "    \n",
    "print(1000*(curpos[1]+1) + 4*(curpos[0]+1) + curdir)\n",
    "                "
   ]
  },
  {
   "cell_type": "code",
   "execution_count": null,
   "metadata": {},
   "outputs": [],
   "source": []
  },
  {
   "cell_type": "code",
   "execution_count": null,
   "metadata": {},
   "outputs": [],
   "source": [
    "49*18*16"
   ]
  },
  {
   "cell_type": "code",
   "execution_count": null,
   "metadata": {},
   "outputs": [],
   "source": [
    "# 1000000000000 \n",
    "(1000000000000-37) // 35, (1000000000000-37) % 35"
   ]
  },
  {
   "cell_type": "code",
   "execution_count": null,
   "metadata": {},
   "outputs": [],
   "source": [
    "Cycle starts: 37 bricks | height: 63\n",
    "full cycle: 72 tot bricks | tot height: 116\n",
    "cycle brick length: 35\n"
   ]
  },
  {
   "cell_type": "code",
   "execution_count": null,
   "metadata": {},
   "outputs": [],
   "source": [
    "# min_flows = dict()\n",
    "# # nx.bfs_tree(G, 'AA', depth_limit=30)\n",
    "#     # print(t)\n",
    "# cur_states = {('AA', (), 0)}\n",
    "# tot_minutes = 30\n",
    "\n",
    "# for minute in range(1, tot_minutes+1):\n",
    "#     next_states = set()\n",
    "#     for cur_node, open_valves, flow in cur_states:\n",
    "#         flow_rate = sum(flows[n] for n in open_valves)\n",
    "#         min_flow = flow + flow_rate * (tot_minutes-minute)\n",
    "#         # print(f\"Exploring: {cur_node} {open_valves} {flow}\")\n",
    "#         if min_flows.get(cur_node, -1) >= min_flow:\n",
    "#             # print(f\" -> Pruning: {flow} + {tot_minutes-minute} * {flow_rate} -> {min_flow} <= {min_flows[cur_node]}\")\n",
    "#             continue\n",
    "#         # print(f\" Adding min_flow: {cur_node} -> {min_flow}\")\n",
    "#         min_flows[cur_node] = min_flow\n",
    "#         flow += flow_rate\n",
    "#         if (cur_node not in open_valves) and flows[cur_node]:\n",
    "#             next_states.add((cur_node, tuple(set([*open_valves, cur_node])), flow))\n",
    "#         for next_node in G.neighbors(cur_node):\n",
    "#             next_states.add((next_node, open_valves, flow))\n",
    "#     if len(next_states) == 0:\n",
    "#         pprint(cur_states)\n",
    "#         pprint(min_flows)\n",
    "#     print(f\"Minute {minute}: max flow = {max(f for _,_,f in next_states)} ({len(next_states)} active states)\")\n",
    "#     cur_states = next_states\n",
    "    \n",
    "#     # pprint(min_flows)"
   ]
  },
  {
   "cell_type": "code",
   "execution_count": null,
   "metadata": {},
   "outputs": [],
   "source": [
    "# sum(v for k,v in flows.items() if k in ('BB', 'DD', 'HH'))\n",
    "\n",
    "    # ('BB', 'HH') ('DD', 'JJ\n",
    "# flows"
   ]
  },
  {
   "cell_type": "code",
   "execution_count": null,
   "metadata": {},
   "outputs": [],
   "source": [
    "all_valves = {k for k,v in flows.items() if v}\n",
    "min_flows = dict()\n",
    "# nx.bfs_tree(G, 'AA', depth_limit=30)\n",
    "    # print(t)\n",
    "cur_states = {(('AA', 'AA'), (), 0, ())}\n",
    "tot_minutes = 26\n",
    "\n",
    "for minute in range(1, tot_minutes+1):\n",
    "    print(f\"Minute {minute}: max flow = {max([0, *min_flows.values()])} ({len(cur_states)} active states)\\n\")\n",
    "        \n",
    "    next_states = set()\n",
    "    for cur_nodes, open_valves, flow, prev_nodes in  sorted(cur_states, key=lambda x: x[2], reverse=True):\n",
    "        flow_rate = sum(flows[n] for n in open_valves)\n",
    "        flow += flow_rate\n",
    "        \n",
    "        min_flow = flow + flow_rate * (tot_minutes-minute)\n",
    "\n",
    "        if min_flows.get(cur_nodes, -1) >= min_flow:\n",
    "            continue\n",
    "        \n",
    "        min_flows[cur_nodes] = min_flow\n",
    "        \n",
    "        if len(open_valves) == len(all_valves):\n",
    "            continue\n",
    "        \n",
    "            \n",
    "        next_states_n = [[], []]\n",
    "        for i,cur_node in enumerate(cur_nodes):\n",
    "            next_states_n[i] = [([(next_node, []) \n",
    "                                 for next_node in G.neighbors(cur_node)\n",
    "                                 if next_node not in (prev_nodes)]\n",
    "                                + ([(cur_node, [cur_node])] if flows[cur_node] and cur_node not in open_valves else []))\n",
    "                                \n",
    "            ]\n",
    "        debug = {(\n",
    "            tuple(sorted([cur_node1, cur_node2])), \n",
    "            tuple(sorted(set([*valve1, *valve2, *open_valves]))), \n",
    "            flow,\n",
    "            (cur_nodes)\n",
    "        )\n",
    "                            for cur_node1, valve1 in next_states_n[0]\n",
    "                            for cur_node2, valve2 in next_states_n[1]\n",
    "                            }\n",
    "\n",
    "        next_states.update(debug)\n",
    "        \n",
    "    cur_states = next_states\n",
    "\n",
    "    if len(cur_states) == 0:\n",
    "        print(f\"No more moves.\")\n",
    "        break\n",
    "    \n",
    "print(f\" Max flow: {max(min_flows.values())}\")\n",
    "    # pprint(min_flows)\n",
    "    # print(max(min_flows.values()), '\\n')\n",
    "    # 2532\n",
    "    # 2349\n",
    "    # 2715\n",
    "    \n",
    "    # ('BB', 'HH') ('DD', 'JJ"
   ]
  },
  {
   "cell_type": "code",
   "execution_count": null,
   "metadata": {},
   "outputs": [],
   "source": [
    "from aocd import get_data, submit\n",
    "import numpy as np\n",
    "import sys\n",
    "import itertools\n",
    "from collections import defaultdict, Counter\n",
    "import re\n",
    "\n",
    "day = 18\n",
    "year = 2022\n",
    "\n",
    "data = get_data(day=day, year=year)\n"
   ]
  },
  {
   "cell_type": "code",
   "execution_count": null,
   "metadata": {},
   "outputs": [],
   "source": [
    "cubes = {tuple([int(i) for i in l.split(',')]) for l in data.split()}\n",
    "\n",
    "faces = len(cubes) * 6\n",
    "faces -= sum( tuple(cc + d*pp for cc,pp in zip(c,p)) in cubes\n",
    "             for c in cubes for d in (-1, 1) for p in ((1,0,0),(0,1,0),(0,0,1)))\n",
    "\n",
    "print(\"Part 1:\", faces)\n"
   ]
  },
  {
   "cell_type": "code",
   "execution_count": null,
   "metadata": {},
   "outputs": [],
   "source": [
    "m = max(max(cubes, key=lambda x: x[i])[i] for i in range(3))\n",
    "\n",
    "steam = set(\n",
    "    [(a, b, c) for a in (-1,m+2) for b in range(-1, m+2) for c in range(-1, m+2)]\n",
    "+   [(b, c, a) for a in (-1,m+2) for b in range(-1, m+2) for c in range(-1, m+2)]\n",
    "+   [(c, a, b) for a in (-1,m+2) for b in range(-1, m+2) for c in range(-1, m+2)]\n",
    ")\n",
    "\n",
    "expanded = True\n",
    "while expanded:\n",
    "    expanded = False\n",
    "    for x in range(0, m+1):\n",
    "        for y in range(0, m+1):\n",
    "            for z in range(0, m+1):\n",
    "                if (x,y,z) in cubes or (x,y, z) in steam:\n",
    "                    continue\n",
    "                for d in (-1,1):\n",
    "                    if (x+d,y,z) in steam or (x,y+d,z) in steam or (x,y,z+d) in steam:\n",
    "                        steam.add((x,y,z))\n",
    "                        expanded = True\n",
    "                        break\n",
    "\n",
    "cooling = {(x,y,z)\n",
    "    for x in range(0, m+1)\n",
    "        for y in range(0, m+1)\n",
    "            for z in range(0, m+1)\n",
    "                if (x,y,z) not in steam }\n",
    "\n",
    "faces = len(cubes) * 6\n",
    "faces -= sum( tuple(cc + d*pp for cc,pp in zip(c,p)) in cooling\n",
    "             for c in cubes for d in (-1, 1) for p in ((1,0,0),(0,1,0),(0,0,1)))\n",
    "\n",
    "\n",
    "print(\"Part 2:\", faces)"
   ]
  },
  {
   "cell_type": "code",
   "execution_count": null,
   "metadata": {},
   "outputs": [],
   "source": []
  }
 ],
 "metadata": {
  "kernelspec": {
   "display_name": "Python 3.10.8 64-bit",
   "language": "python",
   "name": "python3"
  },
  "language_info": {
   "codemirror_mode": {
    "name": "ipython",
    "version": 3
   },
   "file_extension": ".py",
   "mimetype": "text/x-python",
   "name": "python",
   "nbconvert_exporter": "python",
   "pygments_lexer": "ipython3",
   "version": "3.10.9"
  },
  "vscode": {
   "interpreter": {
    "hash": "aee8b7b246df8f9039afb4144a1f6fd8d2ca17a180786b69acc140d282b71a49"
   }
  }
 },
 "nbformat": 4,
 "nbformat_minor": 4
}
