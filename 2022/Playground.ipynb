{
 "cells": [
  {
   "cell_type": "code",
   "execution_count": 153,
   "metadata": {},
   "outputs": [],
   "source": [
    "from aocd import get_data, submit\n",
    "import numpy as np\n",
    "import sys\n",
    "import itertools\n",
    "from collections import defaultdict, Counter\n",
    "import re\n",
    "\n",
    "day = 20\n",
    "year = 2022\n",
    "\n",
    "data = get_data(day=day, year=year)\n",
    "\n",
    "# data = '\\n'.join(re.split(r'[\\.|:|\\n]', data))\n",
    "# data = \">>><<><>><<<>><>>><<<>>><<<><<<>><>><<>>\"\n",
    "# print(data)"
   ]
  },
  {
   "cell_type": "code",
   "execution_count": 146,
   "metadata": {},
   "outputs": [],
   "source": [
    "data = \"\"\"1\n",
    "2\n",
    "-3\n",
    "3\n",
    "-2\n",
    "0\n",
    "4\"\"\""
   ]
  },
  {
   "cell_type": "code",
   "execution_count": 142,
   "metadata": {},
   "outputs": [],
   "source": [
    "# numbers = [(i, int(n)) for i,n in enumerate(data.split(\"\\n\"))]\n",
    "# numbers"
   ]
  },
  {
   "cell_type": "code",
   "execution_count": 154,
   "metadata": {},
   "outputs": [
    {
     "name": "stdout",
     "output_type": "stream",
     "text": [
      "[2764272655118, 233737676064, -2341434706405]\n"
     ]
    },
    {
     "data": {
      "text/plain": [
       "656575624777"
      ]
     },
     "execution_count": 154,
     "metadata": {},
     "output_type": "execute_result"
    }
   ],
   "source": [
    "key = 811589153\n",
    "\n",
    "numbers = [(i, int(n)*key) for i,n in enumerate(data.split(\"\\n\"))]\n",
    "# print(numbers)\n",
    "\n",
    "rounds = 10\n",
    "for r in range(rounds):\n",
    "    for i in range(len(numbers)):\n",
    "        cur_idx = next(cur_idx for cur_idx,(idx,_) in enumerate(numbers) if idx == i)\n",
    "        idx, num = numbers.pop(cur_idx)\n",
    "        # print(idx, cur_idx, num)\n",
    "        numbers.insert((cur_idx+num)%len(numbers), (idx, num))\n",
    "        # print([n for i,n in numbers])\n",
    "\n",
    "    # print([n for i,n in numbers])\n",
    "\n",
    "cur_idx = next(cur_idx for cur_idx,(_,n) in enumerate(numbers) if n == 0)\n",
    "picks = [numbers[(cur_idx+(shift*1000))%len(numbers)][1] for shift in range(1, 4)]\n",
    "\n",
    "print(picks)\n",
    "sum(picks)"
   ]
  },
  {
   "cell_type": "code",
   "execution_count": 33,
   "metadata": {},
   "outputs": [],
   "source": [
    "import functools\n",
    "\n",
    "global pruned, visited\n"
   ]
  },
  {
   "cell_type": "code",
   "execution_count": 114,
   "metadata": {},
   "outputs": [
    {
     "name": "stdout",
     "output_type": "stream",
     "text": [
      "Part 1: 1599\n",
      "Part 2: 14112\n"
     ]
    }
   ],
   "source": [
    "def explore(minute, stocks, robots, costs, max_minutes):\n",
    "    \n",
    "    global visited\n",
    "    \n",
    "    if minute == max_minutes:\n",
    "        return (stocks, robots)\n",
    "\n",
    "    # Heuristic 1: aggregate any resource count that is above max ability to spend\n",
    "    key_stocks = tuple(\n",
    "        sys.maxsize if (s + (max_minutes-minute)*r > (max_minutes-minute)*max(c[material] for c in costs)) else s\n",
    "        for material,(s,r) in enumerate(zip(stocks[:-1], robots[:-1]))\n",
    "        ) + (stocks[3],)\n",
    "    prev_min = visited.get((key_stocks, robots), max_minutes+1)\n",
    "    if prev_min <= minute:\n",
    "        return ((-1, -1, -1, -1), (0, 0, 0, 0))\n",
    "    visited[(key_stocks, robots)] = minute\n",
    "        \n",
    "    make_robots = [(robot, robot_costs) for robot, robot_costs in reversed(list(enumerate(costs))) \n",
    "     if all(s>=c for s,c in zip(stocks, robot_costs))]\n",
    "\n",
    "    # Heursistic 2: build geode crushers whenever possible\n",
    "    if len(make_robots) > 0 and make_robots[0][0] == 3:\n",
    "        make_robots = [r for r in make_robots if r[0] == 3]\n",
    "    \n",
    "    # Heuristic 3: if can build geode or obsidian, do not skip\n",
    "    if len(make_robots) == 0 or make_robots[0][0] < 2:\n",
    "        make_robots.append((4, (0,0,0)))\n",
    "        \n",
    "    solutions = [explore(\n",
    "        minute=minute+1,\n",
    "        stocks= tuple(s+r-c for s,r,c in zip(stocks, robots, robot_costs+(0,))),\n",
    "        robots= tuple(r+1 if i == robot else r for i,r in enumerate(robots)),\n",
    "        costs=costs,\n",
    "        max_minutes=max_minutes)\n",
    "                 for robot, robot_costs in make_robots]\n",
    "    \n",
    "    return max(solutions, key=lambda x:x[0][-1])\n",
    "\n",
    "def explore_blueprint(bp, max_minutes):\n",
    "    global visited\n",
    "    visited = dict()\n",
    "\n",
    "    bp_id, ore_c, clay_c, obs_ore_c, obs_clay_c, geodes_ore_c, geodes_obs_c = bp\n",
    "    costs = ((ore_c, 0, 0), (clay_c, 0, 0), (obs_ore_c,\n",
    "             obs_clay_c, 0), (geodes_ore_c, 0, geodes_obs_c))\n",
    "    stocks, robots = explore(0, stocks=(0, 0, 0, 0), robots=(\n",
    "        1, 0, 0, 0), costs=costs, max_minutes=max_minutes)\n",
    "\n",
    "    # print(\"stocks:\", stocks, \"robots\", robots, \" | geodes: \", stocks[-1])\n",
    "\n",
    "    return (bp_id, stocks[-1])\n",
    "\n",
    "\n",
    "bps = [list(map(int, re.findall(r\"(\\d+)\", l))) for l in data.split(\"\\n\")]\n",
    "\n",
    "vals = [explore_blueprint(bp, max_minutes=24) for bp in bps]\n",
    "print(\"Part 1:\", sum(a * b for a, b in vals))\n",
    "\n",
    "vals = [explore_blueprint(bp, max_minutes=32)[1] for bp in bps[:3]]\n",
    "print(\"Part 2:\", vals[0] * vals[1] * vals[2])\n"
   ]
  },
  {
   "cell_type": "code",
   "execution_count": null,
   "metadata": {},
   "outputs": [],
   "source": []
  },
  {
   "cell_type": "code",
   "execution_count": 48,
   "metadata": {},
   "outputs": [
    {
     "name": "stdout",
     "output_type": "stream",
     "text": [
      "126\n"
     ]
    }
   ],
   "source": [
    "print(sum((a+1)*b for a,b in vals))\n",
    "# vals\n",
    "\n",
    "# 1605 too high"
   ]
  },
  {
   "cell_type": "code",
   "execution_count": 74,
   "metadata": {},
   "outputs": [
    {
     "data": {
      "text/plain": [
       "14976"
      ]
     },
     "execution_count": 74,
     "metadata": {},
     "output_type": "execute_result"
    }
   ],
   "source": [
    "vals[0][1] * vals[1][1] * vals[2][1]\n",
    "\n",
    "# 12096 too low\n",
    "\n",
    "# 14112 -> correct!"
   ]
  },
  {
   "cell_type": "code",
   "execution_count": 68,
   "metadata": {},
   "outputs": [
    {
     "data": {
      "text/plain": [
       "12096"
      ]
     },
     "execution_count": 68,
     "metadata": {},
     "output_type": "execute_result"
    }
   ],
   "source": [
    "49*18*16"
   ]
  },
  {
   "cell_type": "code",
   "execution_count": null,
   "metadata": {},
   "outputs": [],
   "source": [
    "# 1000000000000 \n",
    "(1000000000000-37) // 35, (1000000000000-37) % 35"
   ]
  },
  {
   "cell_type": "code",
   "execution_count": null,
   "metadata": {},
   "outputs": [],
   "source": [
    "Cycle starts: 37 bricks | height: 63\n",
    "full cycle: 72 tot bricks | tot height: 116\n",
    "cycle brick length: 35\n"
   ]
  },
  {
   "cell_type": "code",
   "execution_count": null,
   "metadata": {},
   "outputs": [],
   "source": [
    "# min_flows = dict()\n",
    "# # nx.bfs_tree(G, 'AA', depth_limit=30)\n",
    "#     # print(t)\n",
    "# cur_states = {('AA', (), 0)}\n",
    "# tot_minutes = 30\n",
    "\n",
    "# for minute in range(1, tot_minutes+1):\n",
    "#     next_states = set()\n",
    "#     for cur_node, open_valves, flow in cur_states:\n",
    "#         flow_rate = sum(flows[n] for n in open_valves)\n",
    "#         min_flow = flow + flow_rate * (tot_minutes-minute)\n",
    "#         # print(f\"Exploring: {cur_node} {open_valves} {flow}\")\n",
    "#         if min_flows.get(cur_node, -1) >= min_flow:\n",
    "#             # print(f\" -> Pruning: {flow} + {tot_minutes-minute} * {flow_rate} -> {min_flow} <= {min_flows[cur_node]}\")\n",
    "#             continue\n",
    "#         # print(f\" Adding min_flow: {cur_node} -> {min_flow}\")\n",
    "#         min_flows[cur_node] = min_flow\n",
    "#         flow += flow_rate\n",
    "#         if (cur_node not in open_valves) and flows[cur_node]:\n",
    "#             next_states.add((cur_node, tuple(set([*open_valves, cur_node])), flow))\n",
    "#         for next_node in G.neighbors(cur_node):\n",
    "#             next_states.add((next_node, open_valves, flow))\n",
    "#     if len(next_states) == 0:\n",
    "#         pprint(cur_states)\n",
    "#         pprint(min_flows)\n",
    "#     print(f\"Minute {minute}: max flow = {max(f for _,_,f in next_states)} ({len(next_states)} active states)\")\n",
    "#     cur_states = next_states\n",
    "    \n",
    "#     # pprint(min_flows)"
   ]
  },
  {
   "cell_type": "code",
   "execution_count": null,
   "metadata": {},
   "outputs": [],
   "source": [
    "# sum(v for k,v in flows.items() if k in ('BB', 'DD', 'HH'))\n",
    "\n",
    "    # ('BB', 'HH') ('DD', 'JJ\n",
    "# flows"
   ]
  },
  {
   "cell_type": "code",
   "execution_count": null,
   "metadata": {},
   "outputs": [],
   "source": [
    "all_valves = {k for k,v in flows.items() if v}\n",
    "min_flows = dict()\n",
    "# nx.bfs_tree(G, 'AA', depth_limit=30)\n",
    "    # print(t)\n",
    "cur_states = {(('AA', 'AA'), (), 0, ())}\n",
    "tot_minutes = 26\n",
    "\n",
    "for minute in range(1, tot_minutes+1):\n",
    "    print(f\"Minute {minute}: max flow = {max([0, *min_flows.values()])} ({len(cur_states)} active states)\\n\")\n",
    "        \n",
    "    next_states = set()\n",
    "    for cur_nodes, open_valves, flow, prev_nodes in  sorted(cur_states, key=lambda x: x[2], reverse=True):\n",
    "        flow_rate = sum(flows[n] for n in open_valves)\n",
    "        flow += flow_rate\n",
    "        \n",
    "        min_flow = flow + flow_rate * (tot_minutes-minute)\n",
    "\n",
    "        if min_flows.get(cur_nodes, -1) >= min_flow:\n",
    "            continue\n",
    "        \n",
    "        min_flows[cur_nodes] = min_flow\n",
    "        \n",
    "        if len(open_valves) == len(all_valves):\n",
    "            continue\n",
    "        \n",
    "            \n",
    "        next_states_n = [[], []]\n",
    "        for i,cur_node in enumerate(cur_nodes):\n",
    "            next_states_n[i] = [([(next_node, []) \n",
    "                                 for next_node in G.neighbors(cur_node)\n",
    "                                 if next_node not in (prev_nodes)]\n",
    "                                + ([(cur_node, [cur_node])] if flows[cur_node] and cur_node not in open_valves else []))\n",
    "                                \n",
    "            ]\n",
    "        debug = {(\n",
    "            tuple(sorted([cur_node1, cur_node2])), \n",
    "            tuple(sorted(set([*valve1, *valve2, *open_valves]))), \n",
    "            flow,\n",
    "            (cur_nodes)\n",
    "        )\n",
    "                            for cur_node1, valve1 in next_states_n[0]\n",
    "                            for cur_node2, valve2 in next_states_n[1]\n",
    "                            }\n",
    "\n",
    "        next_states.update(debug)\n",
    "        \n",
    "    cur_states = next_states\n",
    "\n",
    "    if len(cur_states) == 0:\n",
    "        print(f\"No more moves.\")\n",
    "        break\n",
    "    \n",
    "print(f\" Max flow: {max(min_flows.values())}\")\n",
    "    # pprint(min_flows)\n",
    "    # print(max(min_flows.values()), '\\n')\n",
    "    # 2532\n",
    "    # 2349\n",
    "    # 2715\n",
    "    \n",
    "    # ('BB', 'HH') ('DD', 'JJ"
   ]
  },
  {
   "cell_type": "code",
   "execution_count": 159,
   "metadata": {},
   "outputs": [],
   "source": [
    "from aocd import get_data, submit\n",
    "import numpy as np\n",
    "import sys\n",
    "import itertools\n",
    "from collections import defaultdict, Counter\n",
    "import re\n",
    "\n",
    "day = 18\n",
    "year = 2022\n",
    "\n",
    "data = get_data(day=day, year=year)\n"
   ]
  },
  {
   "cell_type": "code",
   "execution_count": 168,
   "metadata": {},
   "outputs": [
    {
     "data": {
      "text/plain": [
       "4364"
      ]
     },
     "execution_count": 168,
     "metadata": {},
     "output_type": "execute_result"
    }
   ],
   "source": [
    "cubes = {tuple([int(i) for i in l.split(',')]) for l in data.split()}\n",
    "\n",
    "faces = len(cubes) * 6\n",
    "faces -= sum( tuple(cc + d*pp for cc,pp in zip(c,p)) in cubes\n",
    "             for c in cubes for d in (-1, 1) for p in ((1,0,0),(0,1,0),(0,0,1)))\n",
    "\n",
    "print(\"Part 1:\", faces)\n"
   ]
  },
  {
   "cell_type": "code",
   "execution_count": 175,
   "metadata": {},
   "outputs": [
    {
     "name": "stdout",
     "output_type": "stream",
     "text": [
      "Part 2: 2508\n"
     ]
    }
   ],
   "source": [
    "m = max(max(cubes, key=lambda x: x[i])[i] for i in range(3))\n",
    "\n",
    "steam = set(\n",
    "    [(a, b, c) for a in (-1,m+2) for b in range(-1, m+2) for c in range(-1, m+2)]\n",
    "+   [(b, c, a) for a in (-1,m+2) for b in range(-1, m+2) for c in range(-1, m+2)]\n",
    "+   [(c, a, b) for a in (-1,m+2) for b in range(-1, m+2) for c in range(-1, m+2)]\n",
    ")\n",
    "\n",
    "expanded = True\n",
    "while expanded:\n",
    "    expanded = False\n",
    "    for x in range(0, m+1):\n",
    "        for y in range(0, m+1):\n",
    "            for z in range(0, m+1):\n",
    "                if (x,y,z) in cubes or (x,y, z) in steam:\n",
    "                    continue\n",
    "                for d in (-1,1):\n",
    "                    if (x+d,y,z) in steam or (x,y+d,z) in steam or (x,y,z+d) in steam:\n",
    "                        steam.add((x,y,z))\n",
    "                        expanded = True\n",
    "                        break\n",
    "\n",
    "cooling = {(x,y,z)\n",
    "    for x in range(0, m+1)\n",
    "        for y in range(0, m+1)\n",
    "            for z in range(0, m+1)\n",
    "                if (x,y,z) not in steam }\n",
    "\n",
    "faces = len(cubes) * 6\n",
    "faces -= sum( tuple(cc + d*pp for cc,pp in zip(c,p)) in cooling\n",
    "             for c in cubes for d in (-1, 1) for p in ((1,0,0),(0,1,0),(0,0,1)))\n",
    "\n",
    "\n",
    "print(\"Part 2:\", faces)"
   ]
  },
  {
   "cell_type": "code",
   "execution_count": null,
   "metadata": {},
   "outputs": [],
   "source": []
  }
 ],
 "metadata": {
  "kernelspec": {
   "display_name": "Python 3",
   "language": "python",
   "name": "python3"
  },
  "language_info": {
   "codemirror_mode": {
    "name": "ipython",
    "version": 3
   },
   "file_extension": ".py",
   "mimetype": "text/x-python",
   "name": "python",
   "nbconvert_exporter": "python",
   "pygments_lexer": "ipython3",
   "version": "3.9.16"
  },
  "vscode": {
   "interpreter": {
    "hash": "a665b5d41d17b532ea9890333293a1b812fa0b73c9c25c950b3cedf1bebd0438"
   }
  }
 },
 "nbformat": 4,
 "nbformat_minor": 4
}
