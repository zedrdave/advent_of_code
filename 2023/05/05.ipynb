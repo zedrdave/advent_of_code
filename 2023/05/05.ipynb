{
 "cells": [
  {
   "cell_type": "code",
   "execution_count": 3,
   "metadata": {},
   "outputs": [],
   "source": [
    "data = \"\"\"seeds: 79 14 55 13\n",
    "\n",
    "seed-to-soil map:\n",
    "50 98 2\n",
    "52 50 48\n",
    "\n",
    "soil-to-fertilizer map:\n",
    "0 15 37\n",
    "37 52 2\n",
    "39 0 15\n",
    "\n",
    "fertilizer-to-water map:\n",
    "49 53 8\n",
    "0 11 42\n",
    "42 0 7\n",
    "57 7 4\n",
    "\n",
    "water-to-light map:\n",
    "88 18 7\n",
    "18 25 70\n",
    "\n",
    "light-to-temperature map:\n",
    "45 77 23\n",
    "81 45 19\n",
    "68 64 13\n",
    "\n",
    "temperature-to-humidity map:\n",
    "0 69 1\n",
    "1 0 69\n",
    "\n",
    "humidity-to-location map:\n",
    "60 56 37\n",
    "56 93 4\"\"\""
   ]
  },
  {
   "cell_type": "code",
   "execution_count": 79,
   "metadata": {},
   "outputs": [],
   "source": [
    "with open(\"input.txt\") as f:\n",
    "    data = f.read()"
   ]
  },
  {
   "cell_type": "code",
   "execution_count": 4,
   "metadata": {},
   "outputs": [],
   "source": [
    "seeds, *mappings = data.split('\\n\\n')\n",
    "seeds = [int(s) for s in seeds.split(': ')[1].split()]\n",
    "mappings = [[m.split() for m in mapping.strip().split('\\n')] for mapping in mappings]\n",
    "\n",
    "mappings = [[[int(v) for v in row] for row in mapping[1:]] for mapping in mappings ]            "
   ]
  },
  {
   "cell_type": "code",
   "execution_count": 5,
   "metadata": {},
   "outputs": [
    {
     "data": {
      "text/plain": [
       "[[0, 15, 37], [37, 52, 2], [39, 0, 15]]"
      ]
     },
     "execution_count": 5,
     "metadata": {},
     "output_type": "execute_result"
    }
   ],
   "source": [
    "map1, map2 = mappings[0], mappings[1]\n",
    "\n",
    "def inter_map(s1, r1, s2, r2):\n",
    "    if s1 > s2:\n",
    "        return inter_map(s2, r2, s1, r1)\n",
    "    if s1 + r1 < s2:\n",
    "        return None\n",
    "    if s1 + r1 <= s2 + r2:\n",
    "        return [(s, r) for s,r in [(s1, s2 - s1), (s2, s1 + r1 - s2), (s1 + r1, s2 + r2 - s1 - r1)] if r > 0]\n",
    "    if s1 + r1 > s2 + r2:\n",
    "        return [(s, r) for s,r in [(s1, s2 - s1), (s2, r2), (s2 + r2, s1 + r1 - s2 - r2)] if r > 0]\n",
    "\n",
    "for dest2, src2, r2 in map2:\n",
    "    delta = src2 - dest2\n",
    "    new_map1 = []\n",
    "    for dest1, src1, r1 in map1:\n",
    "        "
   ]
  },
  {
   "cell_type": "code",
   "execution_count": null,
   "metadata": {},
   "outputs": [],
   "source": [
    "map1, map2 = mappings[0], mappings[1]\n",
    "\n",
    "def compose_mappings(map1, map2):\n",
    "    for dest1, src1, r1 in map1:\n",
    "        for src2, dest2, r2 in map2:\n",
    "            if dest1 <= src2 and dest1 + r1 >= src2:\n",
    "                \n",
    "                \n",
    "            if src2 <= dest1 <= src2 + r2:\n",
    "                yield dest, src2, r * r2"
   ]
  },
  {
   "cell_type": "code",
   "execution_count": 70,
   "metadata": {},
   "outputs": [
    {
     "name": "stdout",
     "output_type": "stream",
     "text": [
      "222541566 218404460\n",
      "670428364 432472902\n"
     ]
    },
    {
     "ename": "KeyboardInterrupt",
     "evalue": "",
     "output_type": "error",
     "traceback": [
      "\u001b[0;31m---------------------------------------------------------------------------\u001b[0m",
      "\u001b[0;31mKeyboardInterrupt\u001b[0m                         Traceback (most recent call last)",
      "\u001b[1;32m/Users/dave/Projects/advent_of_code/2023/05/05.ipynb Cell 4\u001b[0m line \u001b[0;36m8\n\u001b[1;32m      <a href='vscode-notebook-cell:/Users/dave/Projects/advent_of_code/2023/05/05.ipynb#W3sZmlsZQ%3D%3D?line=5'>6</a>\u001b[0m mapping \u001b[39m=\u001b[39m mappings[\u001b[39m0\u001b[39m]\n\u001b[1;32m      <a href='vscode-notebook-cell:/Users/dave/Projects/advent_of_code/2023/05/05.ipynb#W3sZmlsZQ%3D%3D?line=6'>7</a>\u001b[0m num \u001b[39m=\u001b[39m \u001b[39mnext\u001b[39m((dest \u001b[39m+\u001b[39m seed \u001b[39m-\u001b[39m src \u001b[39mfor\u001b[39;00m dest, src, r \u001b[39min\u001b[39;00m mapping \u001b[39mif\u001b[39;00m src \u001b[39m<\u001b[39m\u001b[39m=\u001b[39m seed \u001b[39m<\u001b[39m\u001b[39m=\u001b[39m src \u001b[39m+\u001b[39m r), seed)\n\u001b[0;32m----> <a href='vscode-notebook-cell:/Users/dave/Projects/advent_of_code/2023/05/05.ipynb#W3sZmlsZQ%3D%3D?line=7'>8</a>\u001b[0m seed \u001b[39m+\u001b[39m\u001b[39m=\u001b[39m \u001b[39mnext\u001b[39;49m((seed \u001b[39m-\u001b[39;49m src \u001b[39mfor\u001b[39;49;00m _, src, r \u001b[39min\u001b[39;49;00m mapping \u001b[39mif\u001b[39;49;00m src \u001b[39m<\u001b[39;49m\u001b[39m=\u001b[39;49m seed \u001b[39m<\u001b[39;49m\u001b[39m=\u001b[39;49m src \u001b[39m+\u001b[39;49m r), \u001b[39m1\u001b[39;49m)\n\u001b[1;32m     <a href='vscode-notebook-cell:/Users/dave/Projects/advent_of_code/2023/05/05.ipynb#W3sZmlsZQ%3D%3D?line=9'>10</a>\u001b[0m \u001b[39mfor\u001b[39;00m mapping \u001b[39min\u001b[39;00m mappings[\u001b[39m1\u001b[39m:]:\n\u001b[1;32m     <a href='vscode-notebook-cell:/Users/dave/Projects/advent_of_code/2023/05/05.ipynb#W3sZmlsZQ%3D%3D?line=10'>11</a>\u001b[0m     num \u001b[39m=\u001b[39m \u001b[39mnext\u001b[39m((dest \u001b[39m+\u001b[39m num \u001b[39m-\u001b[39m src \u001b[39mfor\u001b[39;00m dest, src, r \u001b[39min\u001b[39;00m mapping \u001b[39mif\u001b[39;00m src \u001b[39m<\u001b[39m\u001b[39m=\u001b[39m num \u001b[39m<\u001b[39m\u001b[39m=\u001b[39m src \u001b[39m+\u001b[39m r), num)\n",
      "\u001b[1;32m/Users/dave/Projects/advent_of_code/2023/05/05.ipynb Cell 4\u001b[0m line \u001b[0;36m8\n\u001b[1;32m      <a href='vscode-notebook-cell:/Users/dave/Projects/advent_of_code/2023/05/05.ipynb#W3sZmlsZQ%3D%3D?line=5'>6</a>\u001b[0m mapping \u001b[39m=\u001b[39m mappings[\u001b[39m0\u001b[39m]\n\u001b[1;32m      <a href='vscode-notebook-cell:/Users/dave/Projects/advent_of_code/2023/05/05.ipynb#W3sZmlsZQ%3D%3D?line=6'>7</a>\u001b[0m num \u001b[39m=\u001b[39m \u001b[39mnext\u001b[39m((dest \u001b[39m+\u001b[39m seed \u001b[39m-\u001b[39m src \u001b[39mfor\u001b[39;00m dest, src, r \u001b[39min\u001b[39;00m mapping \u001b[39mif\u001b[39;00m src \u001b[39m<\u001b[39m\u001b[39m=\u001b[39m seed \u001b[39m<\u001b[39m\u001b[39m=\u001b[39m src \u001b[39m+\u001b[39m r), seed)\n\u001b[0;32m----> <a href='vscode-notebook-cell:/Users/dave/Projects/advent_of_code/2023/05/05.ipynb#W3sZmlsZQ%3D%3D?line=7'>8</a>\u001b[0m seed \u001b[39m+\u001b[39m\u001b[39m=\u001b[39m \u001b[39mnext\u001b[39m((seed \u001b[39m-\u001b[39m src \u001b[39mfor\u001b[39;00m _, src, r \u001b[39min\u001b[39;00m mapping \u001b[39mif\u001b[39;00m src \u001b[39m<\u001b[39m\u001b[39m=\u001b[39m seed \u001b[39m<\u001b[39m\u001b[39m=\u001b[39m src \u001b[39m+\u001b[39m r), \u001b[39m1\u001b[39m)\n\u001b[1;32m     <a href='vscode-notebook-cell:/Users/dave/Projects/advent_of_code/2023/05/05.ipynb#W3sZmlsZQ%3D%3D?line=9'>10</a>\u001b[0m \u001b[39mfor\u001b[39;00m mapping \u001b[39min\u001b[39;00m mappings[\u001b[39m1\u001b[39m:]:\n\u001b[1;32m     <a href='vscode-notebook-cell:/Users/dave/Projects/advent_of_code/2023/05/05.ipynb#W3sZmlsZQ%3D%3D?line=10'>11</a>\u001b[0m     num \u001b[39m=\u001b[39m \u001b[39mnext\u001b[39m((dest \u001b[39m+\u001b[39m num \u001b[39m-\u001b[39m src \u001b[39mfor\u001b[39;00m dest, src, r \u001b[39min\u001b[39;00m mapping \u001b[39mif\u001b[39;00m src \u001b[39m<\u001b[39m\u001b[39m=\u001b[39m num \u001b[39m<\u001b[39m\u001b[39m=\u001b[39m src \u001b[39m+\u001b[39m r), num)\n",
      "\u001b[0;31mKeyboardInterrupt\u001b[0m: "
     ]
    }
   ],
   "source": [
    "location = 10e100\n",
    "for idx in range(0, len(seeds), 2):\n",
    "    print(seeds[idx], seeds[idx+1])\n",
    "    seed = seeds[idx]\n",
    "    while seed < seeds[idx] + seeds[idx+1]:\n",
    "        mapping = mappings[0]\n",
    "        num = next((dest + seed - src for dest, src, r in mapping if src <= seed <= src + r), seed)\n",
    "        seed += next((seed - src for _, src, r in mapping if src <= seed <= src + r), 1)\n",
    "        \n",
    "        for mapping in mappings[1:]:\n",
    "            num = next((dest + num - src for dest, src, r in mapping if src <= num <= src + r), num)\n",
    "        location = min(location, num)\n",
    "\n",
    "print(location)"
   ]
  },
  {
   "cell_type": "code",
   "execution_count": 107,
   "metadata": {},
   "outputs": [
    {
     "name": "stdout",
     "output_type": "stream",
     "text": [
      "222541566 440946026\n",
      "670428364 1102901266\n",
      "1301166628 1612133389\n",
      "1931540843 2515855842\n",
      "2728902838 2741050565\n",
      "2849288350 2963035607\n",
      "3344622241 3525050587\n",
      "3648852659 3722275952\n",
      "3962570697 4014602338\n",
      "4036058422 4226660576\n"
     ]
    }
   ],
   "source": [
    "last_end = 0\n",
    "for start, r in sorted([(seeds[i], seeds[i+1]) for i in range(0, len(seeds), 2)]):\n",
    "    print(start, start+r)\n"
   ]
  },
  {
   "cell_type": "code",
   "execution_count": 106,
   "metadata": {},
   "outputs": [
    {
     "data": {
      "text/plain": [
       "[222541566,\n",
       " 218404460,\n",
       " 670428364,\n",
       " 432472902,\n",
       " 2728902838,\n",
       " 12147727,\n",
       " 3962570697,\n",
       " 52031641,\n",
       " 2849288350,\n",
       " 113747257,\n",
       " 3648852659,\n",
       " 73423293,\n",
       " 4036058422,\n",
       " 190602154,\n",
       " 1931540843,\n",
       " 584314999,\n",
       " 3344622241,\n",
       " 180428346,\n",
       " 1301166628,\n",
       " 310966761]"
      ]
     },
     "execution_count": 106,
     "metadata": {},
     "output_type": "execute_result"
    }
   ],
   "source": [
    "seeds"
   ]
  },
  {
   "cell_type": "code",
   "execution_count": 7,
   "metadata": {},
   "outputs": [
    {
     "name": "stdout",
     "output_type": "stream",
     "text": [
      "\n",
      " 100\n",
      "50 50 True 0\n",
      "52 52 True 0\n",
      "\n",
      " 54\n",
      "37 37 True 0\n",
      "39 39 True 0\n",
      "\n",
      " 61\n",
      "42 42 True 0\n",
      "49 49 True 0\n",
      "57 57 True 0\n",
      "\n",
      " 95\n",
      "18 18 True 0\n",
      "88 88 True 0\n",
      "\n",
      " 100\n",
      "45 45 True 0\n",
      "68 68 True 0\n",
      "81 81 True 0\n",
      "\n",
      " 70\n",
      "1 1 True 0\n",
      "\n",
      " 97\n",
      "56 56 True 0\n",
      "60 60 True 0\n"
     ]
    }
   ],
   "source": [
    "for mapping in mappings:\n",
    "    mapping = sorted(mapping, key=lambda x: x[0])\n",
    "    if mapping[0][0] != 0:\n",
    "        mapping.insert(0, [0, 0, mapping[0][0]])\n",
    "    print(\"\\n\", mapping[-1][0]+mapping[-1][2])\n",
    "    \n",
    "    num = mapping[0][0]+mapping[0][2]\n",
    "    for dest, _, r in mapping[1:]:\n",
    "        # if dest != num:\n",
    "        print(dest, num, (dest == num), (dest - num))\n",
    "        # assert dest == num, (dest, num)\n",
    "        num = dest + r\n"
   ]
  },
  {
   "cell_type": "code",
   "execution_count": 68,
   "metadata": {},
   "outputs": [
    {
     "data": {
      "text/plain": [
       "-4137106"
      ]
     },
     "execution_count": 68,
     "metadata": {},
     "output_type": "execute_result"
    }
   ],
   "source": [
    "218404460-222541566"
   ]
  },
  {
   "cell_type": "code",
   "execution_count": null,
   "metadata": {},
   "outputs": [],
   "source": []
  }
 ],
 "metadata": {
  "kernelspec": {
   "display_name": "Python 3",
   "language": "python",
   "name": "python3"
  },
  "language_info": {
   "codemirror_mode": {
    "name": "ipython",
    "version": 3
   },
   "file_extension": ".py",
   "mimetype": "text/x-python",
   "name": "python",
   "nbconvert_exporter": "python",
   "pygments_lexer": "ipython3",
   "version": "3.11.1"
  }
 },
 "nbformat": 4,
 "nbformat_minor": 2
}
