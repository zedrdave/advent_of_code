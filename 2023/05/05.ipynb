{
 "cells": [
  {
   "cell_type": "code",
   "execution_count": 21,
   "metadata": {},
   "outputs": [],
   "source": [
    "# data = \"\"\"seeds: 79 14 55 13\n",
    "\n",
    "# seed-to-soil map:\n",
    "# 50 98 2\n",
    "# 52 50 48\n",
    "\n",
    "# soil-to-fertilizer map:\n",
    "# 0 15 37\n",
    "# 37 52 2\n",
    "# 39 0 15\n",
    "\n",
    "# fertilizer-to-water map:\n",
    "# 49 53 8\n",
    "# 0 11 42\n",
    "# 42 0 7\n",
    "# 57 7 4\n",
    "\n",
    "# water-to-light map:\n",
    "# 88 18 7\n",
    "# 18 25 70\n",
    "\n",
    "# light-to-temperature map:\n",
    "# 45 77 23\n",
    "# 81 45 19\n",
    "# 68 64 13\n",
    "\n",
    "# temperature-to-humidity map:\n",
    "# 0 69 1\n",
    "# 1 0 69\n",
    "\n",
    "# humidity-to-location map:\n",
    "# 60 56 37\n",
    "# 56 93 4\"\"\""
   ]
  },
  {
   "cell_type": "code",
   "execution_count": 53,
   "metadata": {},
   "outputs": [],
   "source": [
    "with open(\"input.txt\") as f:\n",
    "    data = f.read()"
   ]
  },
  {
   "cell_type": "code",
   "execution_count": 54,
   "metadata": {},
   "outputs": [],
   "source": [
    "seeds, *mappings = data.split('\\n\\n')\n",
    "seeds = [int(s) for s in seeds.split(': ')[1].split()]\n",
    "mappings = [[m.split() for m in mapping.strip().split('\\n')] for mapping in mappings]\n",
    "mappings = [[[int(v) for v in row] for row in mapping[1:]] for mapping in mappings ]            "
   ]
  },
  {
   "cell_type": "code",
   "execution_count": 65,
   "metadata": {},
   "outputs": [
    {
     "name": "stdout",
     "output_type": "stream",
     "text": [
      "Part 1: 379811651\n",
      "Part 2: 27992443\n"
     ]
    }
   ],
   "source": [
    "def solve(ranges, mappings):\n",
    "    for mapping in mappings:\n",
    "        new_ranges = []\n",
    "        M = sorted(mapping, key=lambda x: x[1])\n",
    "        for start, r in ranges:\n",
    "            for dest, src, map_r in M:\n",
    "                if src <= start <= src+map_r:\n",
    "                    r2 = min(map_r - start + src, r)\n",
    "                    new_ranges.append((start - src + dest, r2))\n",
    "                    r -= r2\n",
    "                    start += r2\n",
    "                if r > 0 and src <= start+r <= src+map_r:\n",
    "                    r2 = min(start + r - src, r)\n",
    "                    new_ranges.append((start + r - r2 - src + dest, r2))\n",
    "                    r -= r2\n",
    "                if r == 0:\n",
    "                    break\n",
    "            if r > 0:\n",
    "                new_ranges.append((start, r))\n",
    "        ranges = new_ranges\n",
    "    return min(ranges)[0]\n",
    "\n",
    "print(f\"Part 1: {solve(((s, 1) for s in seeds), mappings)}\")\n",
    "\n",
    "print(f\"Part 2: {solve((zip(seeds[::2], seeds[1::2])), mappings)}\")"
   ]
  }
 ],
 "metadata": {
  "kernelspec": {
   "display_name": "Python 3",
   "language": "python",
   "name": "python3"
  },
  "language_info": {
   "codemirror_mode": {
    "name": "ipython",
    "version": 3
   },
   "file_extension": ".py",
   "mimetype": "text/x-python",
   "name": "python",
   "nbconvert_exporter": "python",
   "pygments_lexer": "ipython3",
   "version": "3.10.9"
  }
 },
 "nbformat": 4,
 "nbformat_minor": 2
}
