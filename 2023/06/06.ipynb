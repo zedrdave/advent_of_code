{
 "cells": [
  {
   "cell_type": "code",
   "execution_count": 7,
   "metadata": {},
   "outputs": [],
   "source": [
    "from math import floor, ceil"
   ]
  },
  {
   "cell_type": "code",
   "execution_count": 18,
   "metadata": {},
   "outputs": [],
   "source": [
    "data = \"\"\"Time:      7  15   30\n",
    "Distance:  9  40  200\"\"\""
   ]
  },
  {
   "cell_type": "code",
   "execution_count": 21,
   "metadata": {},
   "outputs": [],
   "source": [
    "with open('input.txt') as f:\n",
    "    data = f.read()"
   ]
  },
  {
   "cell_type": "code",
   "execution_count": 22,
   "metadata": {},
   "outputs": [
    {
     "name": "stdout",
     "output_type": "stream",
     "text": [
      "[48938595] [296192812361391]\n"
     ]
    }
   ],
   "source": [
    "# Part 1\n",
    "# times, distances = [[int(i) for i in l[10:].split()] \n",
    "#                     for l in data.splitlines()]\n",
    "\n",
    "times, distances = [[int(l[10:].replace(' ', ''))]\n",
    "                    for l in data.splitlines()]\n",
    "\n",
    "print(times, distances)"
   ]
  },
  {
   "cell_type": "code",
   "execution_count": 23,
   "metadata": {},
   "outputs": [
    {
     "name": "stdout",
     "output_type": "stream",
     "text": [
      "7075227 41863368 34788142\n",
      "34788142\n"
     ]
    }
   ],
   "source": [
    "res = 1\n",
    "for t, d in zip(times, distances):\n",
    "    d += 0.00000001\n",
    "    r1, r2 = ceil((t - (t**2 - 4*d)**0.5)/2), floor((t + (t**2 - 4*d)**0.5)/2)\n",
    "    res *= r2 - r1 + 1\n",
    "    \n",
    "print(res)"
   ]
  },
  {
   "cell_type": "code",
   "execution_count": null,
   "metadata": {},
   "outputs": [],
   "source": []
  }
 ],
 "metadata": {
  "kernelspec": {
   "display_name": "Python 3",
   "language": "python",
   "name": "python3"
  },
  "language_info": {
   "codemirror_mode": {
    "name": "ipython",
    "version": 3
   },
   "file_extension": ".py",
   "mimetype": "text/x-python",
   "name": "python",
   "nbconvert_exporter": "python",
   "pygments_lexer": "ipython3",
   "version": "3.11.1"
  }
 },
 "nbformat": 4,
 "nbformat_minor": 2
}
