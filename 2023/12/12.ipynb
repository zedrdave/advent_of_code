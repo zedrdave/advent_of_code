{
 "cells": [
  {
   "cell_type": "code",
   "execution_count": 4,
   "metadata": {},
   "outputs": [],
   "source": [
    "\n",
    "import re"
   ]
  },
  {
   "cell_type": "code",
   "execution_count": 75,
   "metadata": {},
   "outputs": [],
   "source": [
    "with open('input.txt') as f:\n",
    "    data = f.read()"
   ]
  },
  {
   "cell_type": "code",
   "execution_count": 51,
   "metadata": {},
   "outputs": [],
   "source": [
    "data = \"\"\"???.### 1,1,3\n",
    ".??..??...?##. 1,1,3\n",
    "?#?#?#?#?#?#?#? 1,3,1,6\n",
    "????.#...#... 4,1,1\n",
    "????.######..#####. 1,6,5\n",
    "?###???????? 3,2,1\"\"\""
   ]
  },
  {
   "cell_type": "code",
   "execution_count": 89,
   "metadata": {},
   "outputs": [
    {
     "name": "stdout",
     "output_type": "stream",
     "text": [
      "Part 1: 7047\n",
      "Part 2: 17391848518844\n"
     ]
    }
   ],
   "source": [
    "from functools import lru_cache\n",
    "\n",
    "springs = [l.split() for l in data.splitlines()]\n",
    "springs = [(s[0], tuple(int(i) for i in s[1].split(','))) for s in springs]\n",
    "\n",
    "@lru_cache(maxsize=None)\n",
    "def recur_fit(pattern, counts):\n",
    "    if len(counts) == 0:\n",
    "        return '#' not in pattern\n",
    "    if len(pattern) == 0:\n",
    "        return 0\n",
    "    if pattern[0] == '#':\n",
    "        if len(pattern) >= counts[0] and all(c != '.' for c in pattern[:counts[0]]):\n",
    "            if len(pattern) == counts[0]:\n",
    "                return len(counts) == 1\n",
    "            elif pattern[counts[0]] != '#':\n",
    "                return recur_fit(pattern[counts[0]+1:], counts[1:])\n",
    "        return 0\n",
    "    if pattern[0] == '.':\n",
    "        return recur_fit(pattern[1:], counts)\n",
    "    if pattern[0] == '?':\n",
    "        return recur_fit(pattern[1:], counts) + recur_fit('#' + pattern[1:], counts)\n",
    "\n",
    "\n",
    "print(\"Part 1:\", sum(recur_fit(pattern, counts) for pattern, counts in springs))\n",
    "\n",
    "springs = [('?'.join([pattern] * 5), tuple(counts*5)) for pattern, counts in springs]\n",
    "\n",
    "print(\"Part 2:\", sum(recur_fit(pattern, counts) for pattern, counts in springs))\n",
    "\n",
    "\n",
    "# 17391848518844"
   ]
  },
  {
   "cell_type": "code",
   "execution_count": null,
   "metadata": {},
   "outputs": [],
   "source": [
    "# Regex version just for kicks\n",
    "\n",
    "# tot_arr = 0\n",
    "\n",
    "# for spring, rule in springs:\n",
    "#     rule = \"^[^#]*\" + \"[^#]+\".join(\"#\" * int(r) for r in rule.split(',')) + \"[^#]*$\"\n",
    "#     rule = re.compile(rule)\n",
    "#     qm = [pos for pos, c in enumerate(spring) if c == \"?\"]\n",
    "    \n",
    "#     for n in range(2**len(qm)):\n",
    "#         repl = bin(n)[2:].zfill(len(qm)).replace(\"0\", \".\").replace(\"1\", \"#\")\n",
    "#         candidate = ''.join(repl[qm.index(i)] if i in qm else c for i, c in enumerate(spring))\n",
    "#         # print(candidate, rule.search(candidate) is not None)\n",
    "#         tot_arr += rule.search(candidate) is not None\n",
    "        \n",
    "# print(tot_arr)"
   ]
  }
 ],
 "metadata": {
  "kernelspec": {
   "display_name": "Python 3",
   "language": "python",
   "name": "python3"
  },
  "language_info": {
   "codemirror_mode": {
    "name": "ipython",
    "version": 3
   },
   "file_extension": ".py",
   "mimetype": "text/x-python",
   "name": "python",
   "nbconvert_exporter": "python",
   "pygments_lexer": "ipython3",
   "version": "3.11.1"
  }
 },
 "nbformat": 4,
 "nbformat_minor": 2
}
