{
 "cells": [
  {
   "cell_type": "code",
   "execution_count": 21,
   "metadata": {},
   "outputs": [],
   "source": [
    "data = \"\"\"Card 1: 41 48 83 86 17 | 83 86  6 31 17  9 48 53\n",
    "Card 2: 13 32 20 16 61 | 61 30 68 82 17 32 24 19\n",
    "Card 3:  1 21 53 59 44 | 69 82 63 72 16 21 14  1\n",
    "Card 4: 41 92 73 84 69 | 59 84 76 51 58  5 54 83\n",
    "Card 5: 87 83 26 28 32 | 88 30 70 12 93 22 82 36\n",
    "Card 6: 31 18 13 56 72 | 74 77 10 23 35 67 36 11\"\"\""
   ]
  },
  {
   "cell_type": "code",
   "execution_count": 36,
   "metadata": {},
   "outputs": [],
   "source": [
    "with open('input.txt') as f:\n",
    "    data = f.read()"
   ]
  },
  {
   "cell_type": "code",
   "execution_count": 22,
   "metadata": {},
   "outputs": [
    {
     "name": "stdout",
     "output_type": "stream",
     "text": [
      "13\n"
     ]
    }
   ],
   "source": [
    "tot = 0\n",
    "\n",
    "for l in data.strip().split('\\n'):\n",
    "    card, nums = l.split(':')\n",
    "    winning, mine = nums.split('|')\n",
    "    mine = {int(n) for n in mine.split()}\n",
    "    winning = {int(n) for n in winning.split()}\n",
    "    # print(f'Card {card} is {int(2**(len(mine.intersection(winning))-1))} points')\n",
    "    tot += int(2**(len(mine.intersection(winning))-1))\n",
    "\n",
    "print(tot)"
   ]
  },
  {
   "cell_type": "code",
   "execution_count": 37,
   "metadata": {},
   "outputs": [],
   "source": [
    "cards = list()\n",
    "\n",
    "for l in data.strip().split('\\n'):\n",
    "    card, nums = l.split(':')\n",
    "    card = int(card.split()[1])\n",
    "    winning, mine = nums.split('|')\n",
    "    mine = {int(n) for n in mine.split()}\n",
    "    winning = {int(n) for n in winning.split()}\n",
    "    cards.append([1, len(mine.intersection(winning))])\n",
    "\n",
    "# cards"
   ]
  },
  {
   "cell_type": "code",
   "execution_count": 38,
   "metadata": {},
   "outputs": [
    {
     "name": "stdout",
     "output_type": "stream",
     "text": [
      "[[1, 0], [1, 10], [2, 10], [4, 10], [8, 4], [16, 1], [32, 10], [48, 1], [96, 5], [136, 6], [272, 0], [272, 1], [543, 2], [812, 3], [1524, 3], [2505, 2], [4874, 2], [8904, 1], [13779, 1], [13780, 0], [1, 10], [2, 7], [4, 5], [8, 4], [16, 2], [32, 3], [64, 7], [112, 7], [212, 1], [390, 4], [568, 3], [1135, 1], [2270, 1], [3405, 1], [3518, 0], [1, 9], [2, 9], [4, 10], [8, 0], [8, 5], [16, 1], [32, 0], [16, 7], [32, 4], [64, 2], [119, 6], [236, 2], [408, 0], [372, 2], [508, 2], [1000, 0], [628, 0], [1, 2], [2, 2], [4, 10], [7, 10], [12, 10], [24, 10], [48, 10], [96, 10], [192, 10], [384, 10], [768, 6], [1536, 10], [3072, 7], [6140, 10], [12273, 0], [12261, 6], [24498, 7], [48180, 6], [96264, 0], [96072, 1], [188688, 2], [281304, 0], [267507, 2], [346326, 0], [267508, 0], [1, 10], [2, 4], [4, 1], [8, 8], [12, 4], [24, 8], [46, 10], [92, 10], [184, 4], [356, 10], [712, 1], [1423, 10], [2126, 0], [1942, 0], [1918, 7], [3836, 4], [7672, 3], [15298, 2], [30504, 0], [30504, 4], [33846, 1], [67692, 2], [98197, 0], [98197, 0], [1, 10], [2, 5], [4, 10], [8, 3], [16, 6], [32, 10], [64, 5], [118, 6], [236, 2], [472, 4], [944, 2], [1635, 5], [3206, 9], [5464, 1], [10338, 4], [15212, 6], [30392, 1], [59149, 5], [87906, 1], [165474, 0], [77568, 1], [155136, 0], [59150, 0], [1, 10], [2, 9], [4, 6], [8, 10], [16, 10], [32, 5], [64, 0], [64, 4], [128, 10], [252, 10], [504, 7], [973, 1], [1882, 1], [2791, 7], [3692, 0], [3676, 2], [7352, 1], [14704, 1], [17876, 2], [20920, 1], [41588, 2], [41589, 2], [83178, 0], [41590, 0], [1, 10], [2, 10], [4, 1], [8, 5], [12, 3], [24, 1], [48, 5], [72, 10], [132, 10], [256, 9], [512, 5], [1023, 4], [1996, 2], [3992, 6], [7984, 3], [13972, 3], [26409, 3], [52818, 0], [44762, 1], [75164, 0], [1, 10], [2, 10], [4, 6], [8, 10], [16, 10], [32, 6], [64, 10], [128, 10], [256, 8], [508, 10], [1016, 5], [2031, 4], [4028, 0], [4028, 8], [8048, 4], [16080, 9], [29113, 5], [57906, 6], [115684, 2], [223320, 5], [446132, 1], [776580, 1], [1073887, 1], [1371194, 1], [1610595, 0], [1, 9], [2, 10], [4, 10], [8, 9], [16, 10], [32, 10], [64, 2], [128, 10], [256, 10], [448, 2], [895, 2], [1790, 4], [3130, 8], [5353, 8], [10706, 2], [21396, 3], [40970, 3], [71234, 1], [142340, 0], [49454, 2], [57938, 0], [54808, 0]]\n"
     ]
    },
    {
     "data": {
      "text/plain": [
       "9496801"
      ]
     },
     "execution_count": 38,
     "metadata": {},
     "output_type": "execute_result"
    }
   ],
   "source": [
    "for idx,(card_count, points) in enumerate(cards):\n",
    "    for idx_2 in range(idx+1, idx+points+1):\n",
    "        if idx_2 < len(cards):\n",
    "            cards[idx_2][0] += card_count\n",
    "\n",
    "print(cards)\n",
    "sum([card_count for card_count, _ in cards])"
   ]
  },
  {
   "cell_type": "code",
   "execution_count": 20,
   "metadata": {},
   "outputs": [
    {
     "data": {
      "text/plain": [
       "173262868586857042253872557159844881857720"
      ]
     },
     "execution_count": 20,
     "metadata": {},
     "output_type": "execute_result"
    }
   ],
   "source": []
  },
  {
   "cell_type": "code",
   "execution_count": null,
   "metadata": {},
   "outputs": [],
   "source": []
  }
 ],
 "metadata": {
  "kernelspec": {
   "display_name": "rockestate-api",
   "language": "python",
   "name": "python3"
  },
  "language_info": {
   "codemirror_mode": {
    "name": "ipython",
    "version": 3
   },
   "file_extension": ".py",
   "mimetype": "text/x-python",
   "name": "python",
   "nbconvert_exporter": "python",
   "pygments_lexer": "ipython3",
   "version": "3.10.13"
  }
 },
 "nbformat": 4,
 "nbformat_minor": 2
}
