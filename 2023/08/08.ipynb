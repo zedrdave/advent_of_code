{
 "cells": [
  {
   "cell_type": "code",
   "execution_count": 1,
   "metadata": {},
   "outputs": [],
   "source": [
    "from collections import Counter"
   ]
  },
  {
   "cell_type": "code",
   "execution_count": 2,
   "metadata": {},
   "outputs": [],
   "source": [
    "data = \"\"\"LR\n",
    "\n",
    "11A = (11B, XXX)\n",
    "11B = (XXX, 11Z)\n",
    "11Z = (11B, XXX)\n",
    "22A = (22B, XXX)\n",
    "22B = (22C, 22C)\n",
    "22C = (22Z, 22Z)\n",
    "22Z = (22B, 22B)\n",
    "XXX = (XXX, XXX)\"\"\""
   ]
  },
  {
   "cell_type": "code",
   "execution_count": 3,
   "metadata": {},
   "outputs": [
    {
     "data": {
      "text/plain": [
       "'LRRLRRRLRRLRRLRRRLRRLRLLRRRLRRRLRRRLRRRLRRRLRRLLRRRLLRLRRRLRRLRRRLLRRRLRLLRRLRLLRLRLLRRLRRRLRRLLRRRLRRRLRLRRRLRRRLRRRLRRRLRLRRRLLRRRLRRLRRRLRLRRRLRRLRLLLLLRRRLRRRLRRRLRRRLRRLLRLRLRRLRRLLRRRLRRRLRRRLLLRRRLRRRLRRRLRLRRRLLRLRLRRLRRLRRRLRRLRRRLRRRLRRRLRRLLRRRLRRLRRLRLLRRRR\\n\\nCTK = (JLT, HRF)\\nTQH = (DKT, HGB)\\nHQM = (XPV, TTR)\\nDLL = (MFK, HHS)\\nBVD = (BXB, FDB)\\nTTR = (BJG, MTF)\\nRPR = (CQL, KHJ)\\nKND = (TVL, QMF)\\nSQH = (XNP, MRD)\\nRXM = (HTR, BXT)\\nXSF = (BRL, XKR)\\nDGJ = (DQX, KCQ)\\nDFV = (KHJ, CQL)\\nCFC = (DPP, QKL)\\nNKD = (PVH, HQM)\\nRHK = (JRS, LJS)\\nXNB = (LCL, DRX)\\nJNR = (VMM, FLM)\\nNNB = (FFQ, XXQ)\\nRMQ = (NBJ, MND)\\nFGK = (SLK, QLG)\\nXBR = (NFS, CJM)\\nTDN = (XXX, KPX)\\nFXR = (DRT, KVM)\\nKKF = (LPC, KFT)\\nBTC = (NKC, DGJ)\\nCXP = (VNP, FTX)\\nXXK = (GRD, BHQ)\\nHNH = (NMF, FSH)\\nVBT = (NKC, DGJ)\\nRRS = (VVR, QXT)\\nVRM = (NDM, DRP)\\nGFR = (JPB, JML)\\nXHS = (LQM, SSV)\\nLQM = (GNT, RSS)\\nSBX = (QVJ, RJL)\\nDQX = (SMD, SMD)\\nKHC = (FJS, MVX)\\nFQQ = (HFX, TQS)\\nKFM = (KKQ, FFV)\\nHLZ = (MQN, LSB)\\nQXB = (XXQ, FFQ)\\nPQT = (HVJ, DPG)\\nHFX = (LHH, KDV)\\nRVK = (KVR, MHT)\\nMCS = (GJG, TGS)\\nCSP = (LHX, GJH)\\nHQV = (XXP, HLZ)\\nMVT = (XFN, LHQ)\\nFPS = (HTC, MSM)\\nTHS = (FDV, JFM)\\nBNS = (VXQ, SVF)\\nPXZ = (BDJ, QHT)\\nGDV = (PGH, KND)\\nVPS = (HDP, CXX)\\nLHX = (FXR, FDJ)\\nVGN = (SJD, GRV)\\nFTB = (MFF, DQT)\\nXPV = (MTF, BJG)\\nRFT = (KFM, JJN)\\nFQX = (FHB, GDV)\\nJRT = (LLV, LDQ)\\nNVB = (RDQ, KQJ)\\nBHF = (KHT, HCL)\\nFJS = (BNQ, QGB)\\nKLV = (JFF, CFH)\\nCMK = (LJS, JRS)\\nQXA = (LSB, MQN)\\nSLM = (NHH, VCD)\\nXTF = (RXM, KCF)\\nNKC = (DQX, DQX)\\nGCX = (PVC, CVK)\\nNGG = (SBR, XKB)\\nJML = (FPS, RNT)\\nJSC = (FNG, BBR)\\nFDB = (FJC, QSH)\\nFBC = (BVR, MBD)\\nQTD = (HBH, THD)\\nJRS = (NHC, DGN)\\nMND = (MCN, CFC)\\nXCM = (DRF, RQS)\\nHTG = (JJN, KFM)\\nSQX = (DRP, NDM)\\nSQS = (NRJ, LXM)\\nPHD = (SQL, PQT)\\nMMB = (FJL, BFD)\\nKRJ = (MTQ, VPS)\\nHCQ = (DXP, DKQ)\\nBHN = (JXJ, PXR)\\nXKD = (QHG, TCT)\\nKVR = (HFL, NQK)\\nQXV = (HNH, FJK)\\nPNM = (MTJ, DTP)\\nSJJ = (BLH, LDN)\\nJPX = (QQL, QHN)\\nHDF = (SBX, JQT)\\nHJG = (TLD, XBG)\\nQJT = (BRN, FTM)\\nNXH = (MVT, XPK)\\nRCS = (TSC, TKG)\\nVJZ = (PVL, CFN)\\nQXT = (FBM, KJL)\\nSJG = (RPR, DFV)\\nLHH = (BBV, KLX)\\nQSV = (HFN, FRS)\\nFVJ = (HBH, THD)\\nFBR = (JHR, XMK)\\nMVX = (QGB, BNQ)\\nSQL = (HVJ, DPG)\\nNVJ = (PFN, JRR)\\nGXD = (CQJ, HGS)\\nNRP = (XDR, XLC)\\nFTX = (RSM, QBB)\\nLXM = (PBS, HRB)\\nVPB = (QRG, TVB)\\nPDS = (LQM, SSV)\\nXLQ = (QJV, VQD)\\nRNX = (BBJ, XPJ)\\nMRD = (NVJ, VJG)\\nPTQ = (XLC, XDR)\\nBDJ = (QGJ, BSV)\\nCFN = (MBB, KXJ)\\nHDG = (FJG, FJG)\\nDPT = (RDD, SLM)\\nQBB = (GXD, VNJ)\\nBLG = (HTG, RFT)\\nRNK = (DFV, RPR)\\nDKD = (CPM, SNF)\\nVXM = (DSG, JGP)\\nDPP = (JLK, NPC)\\nHRB = (FXK, KLJ)\\nSQD = (HMK, VVH)\\nLGV = (XKD, CQM)\\nJHR = (VCT, GKD)\\nJQT = (QVJ, RJL)\\nQVJ = (MRH, TGR)\\nDHG = (SFP, JVQ)\\nVQD = (FHV, BNS)\\nNHH = (STQ, VQQ)\\nCQT = (MPP, NJG)\\nNVV = (XQR, GQM)\\nKTX = (QSJ, QSJ)\\nBHQ = (FVX, DHG)\\nLJS = (NHC, DGN)\\nJXH = (KGM, JTX)\\nCKH = (XNB, PPG)\\nGML = (LPC, KFT)\\nLDN = (FMJ, QTT)\\nKPR = (DPT, CNJ)\\nCQF = (MJF, RVK)\\nHXC = (NXH, BSP)\\nGXT = (MND, NBJ)\\nHRP = (JRB, XBB)\\nGRD = (FVX, DHG)\\nLRP = (XPN, QXV)\\nHRQ = (QJT, TGT)\\nPGC = (FNB, HSV)\\nTSC = (PHJ, FLC)\\nPDA = (NVV, MSV)\\nPHJ = (SJJ, DJS)\\nJRB = (XSF, HSS)\\nBRN = (TGH, HPH)\\nRXL = (FJS, MVX)\\nXTD = (FTN, KTT)\\nTKV = (QTP, NHM)\\nJTX = (TQF, DMF)\\nJHP = (HMK, VVH)\\nJPN = (TMB, VPV)\\nSLK = (KKP, GCX)\\nMBB = (CLD, XBR)\\nBRQ = (JPX, GHX)\\nPRK = (GJH, LHX)\\nCNV = (PLV, VGN)\\nRQS = (KRG, KQM)\\nXQF = (BQB, KXX)\\nJRR = (GQF, XBC)\\nXMN = (GRP, CQT)\\nHKK = (CDS, RDF)\\nXSM = (LMQ, PNM)\\nNBZ = (QLG, SLK)\\nCMF = (BPL, FCS)\\nKLX = (RRV, SXM)\\nCBF = (CTJ, TCN)\\nVMM = (GML, KKF)\\nNQM = (PXR, JXJ)\\nQPL = (TDJ, MDK)\\nXXQ = (XXT, TLQ)\\nMPM = (HFX, TQS)\\nGQM = (XLV, TCK)\\nJNB = (JXH, JBT)\\nMPP = (XSM, FXH)\\nJSJ = (QPJ, FGL)\\nDHX = (SJG, RNK)\\nSKG = (XHS, PDS)\\nXMK = (GKD, VCT)\\nFMQ = (TQQ, FSS)\\nFSH = (DHX, QDM)\\nFXK = (VRM, SQX)\\nHBP = (LXM, NRJ)\\nGJG = (VTT, LJK)\\nQPJ = (VFX, DVQ)\\nMVM = (FGK, NBZ)\\nMSF = (QKP, XMN)\\nXQJ = (JPN, LJH)\\nKCJ = (GXT, RMQ)\\nGXB = (TCN, CTJ)\\nFFV = (VQS, PHD)\\nCLD = (NFS, CJM)\\nCXN = (VBT, BTC)\\nVPT = (FTR, NDP)\\nMSM = (VMG, GQH)\\nQJJ = (KTX, KTX)\\nNHM = (RCS, MFH)\\nFTR = (TXS, NGG)\\nHSV = (MPK, BDX)\\nLJK = (DKD, KQT)\\nVQS = (SQL, PQT)\\nFGL = (DVQ, VFX)\\nLSS = (PQK, PKV)\\nJQQ = (BVD, GFK)\\nJBQ = (HCQ, RQC)\\nBBJ = (PSR, BRQ)\\nXBB = (HSS, XSF)\\nMCN = (DPP, QKL)\\nBXT = (PGL, HNB)\\nKHT = (QQC, XXV)\\nHFP = (CDX, XST)\\nHFL = (NFG, CKH)\\nXVB = (FHQ, JXL)\\nFPQ = (NLS, TLL)\\nBPK = (RFK, DVP)\\nSDR = (JSJ, XRB)\\nFTN = (GLQ, HKK)\\nMTJ = (QTD, FVJ)\\nBBV = (SXM, RRV)\\nHJK = (CMP, DPF)\\nFJK = (FSH, NMF)\\nVFN = (FPQ, HTN)\\nDVP = (VXM, FXL)\\nXNP = (VJG, NVJ)\\nMSX = (VKJ, KBL)\\nFDJ = (DRT, KVM)\\nJNL = (RXF, FCD)\\nNKG = (QKP, XMN)\\nBRL = (DPV, FFN)\\nNSL = (TKV, KXR)\\nHHG = (MPM, FQQ)\\nGCN = (LJF, LJF)\\nXXV = (TQH, SDH)\\nRFD = (TGS, GJG)\\nNMF = (DHX, QDM)\\nXST = (GHC, HXC)\\nJFM = (LVJ, FSM)\\nVVX = (LBN, DLL)\\nHSS = (XKR, BRL)\\nMSP = (RXF, FCD)\\nBSP = (MVT, XPK)\\nRHQ = (KHT, HCL)\\nBBG = (VBT, BTC)\\nXXP = (LSB, MQN)\\nJGP = (VFN, XCD)\\nJSD = (BHQ, GRD)\\nDGN = (HMG, HPG)\\nHVJ = (QJB, VRL)\\nRDQ = (TRF, HJF)\\nVFP = (HBP, SQS)\\nXRB = (QPJ, FGL)\\nDMD = (MCS, RFD)\\nFLC = (SJJ, DJS)\\nVVH = (RPG, CXP)\\nFHJ = (JPV, PXZ)\\nMRH = (VPB, QFM)\\nQTT = (TXT, MFD)\\nHPH = (CCX, SKG)\\nHTC = (VMG, GQH)\\nRBF = (VXX, KRJ)\\nGFJ = (KTX, QPV)\\nQHG = (XLS, LXJ)\\nRFK = (VXM, FXL)\\nDKB = (BFD, FJL)\\nHRF = (KHC, RXL)\\nMKQ = (NKG, MSF)\\nJHQ = (BXH, XQF)\\nFVX = (SFP, JVQ)\\nVVR = (KJL, FBM)\\nXLC = (MNC, XVB)\\nLQD = (TCP, ZZZ)\\nGMH = (QCT, GHQ)\\nQDM = (RNK, SJG)\\nPRQ = (TTC, TXJ)\\nFCD = (CLR, NVB)\\nDTP = (FVJ, QTD)\\nJFF = (RXB, CLP)\\nXGG = (FSS, TQQ)\\nTLD = (GPH, XTF)\\nMXL = (LSF, FSQ)\\nFLJ = (JFF, CFH)\\nNGT = (KTT, FTN)\\nRLN = (PLG, HHG)\\nSTQ = (VDC, HRP)\\nTCK = (VTR, TGD)\\nPQK = (FGP, TBN)\\nFJL = (FBC, MXF)\\nMJX = (PLV, VGN)\\nMFD = (GHH, FTB)\\nXBZ = (MSV, NVV)\\nNXL = (LJF, THM)\\nKLJ = (SQX, VRM)\\nTCN = (MRG, XFM)\\nCTJ = (XFM, MRG)\\nQBH = (SVK, CFT)\\nGRV = (NDC, SDR)\\nTFD = (BHN, NQM)\\nSJD = (SDR, NDC)\\nLHQ = (HDG, HXL)\\nTVS = (NSL, GKH)\\nNST = (MJF, RVK)\\nGJH = (FXR, FDJ)\\nNGR = (PSP, HST)\\nQGJ = (TNT, JNR)\\nHTR = (PGL, HNB)\\nSFP = (NRP, PTQ)\\nCTR = (MHF, QBH)\\nCJM = (KXN, HFQ)\\nHNB = (BNM, LSS)\\nPSS = (FDV, JFM)\\nJPB = (FPS, RNT)\\nRQC = (DKQ, DXP)\\nNRD = (JQT, SBX)\\nNGV = (VMJ, NSJ)\\nVCD = (STQ, VQQ)\\nTXB = (QCQ, JTT)\\nTKX = (JPB, JML)\\nLQH = (PGC, FQD)\\nDPV = (DCG, XBD)\\nVQQ = (HRP, VDC)\\nFQD = (FNB, HSV)\\nHXH = (DRF, RQS)\\nGNM = (CLC, CLC)\\nXLS = (DKB, MMB)\\nSVK = (CMF, MNS)\\nNFG = (XNB, PPG)\\nDRB = (XJV, VHV)\\nGHH = (MFF, DQT)\\nSHG = (RFT, HTG)\\nPLM = (QCQ, JTT)\\nLPC = (JRT, MHM)\\nSDH = (DKT, HGB)\\nGRR = (TDJ, MDK)\\nTQF = (NKD, JNC)\\nVTT = (DKD, KQT)\\nTHD = (XGF, DVJ)\\nKFQ = (RFD, MCS)\\nDJS = (BLH, LDN)\\nCHS = (JSD, XXK)\\nBFD = (FBC, MXF)\\nPCP = (TLV, VNT)\\nPVH = (TTR, XPV)\\nFHB = (KND, PGH)\\nFFN = (XBD, DCG)\\nTBN = (GRR, QPL)\\nHFN = (NNB, QXB)\\nNJG = (XSM, FXH)\\nFXH = (PNM, LMQ)\\nGHC = (BSP, NXH)\\nMFT = (CTR, JDS)\\nQCT = (PCP, GJC)\\nDRX = (CTK, RDS)\\nGQJ = (SHG, BLG)\\nRXB = (BHB, HFP)\\nTDA = (CFN, PVL)\\nLQF = (CNV, MJX)\\nLJF = (FDM, FDM)\\nCLC = (SKR, SKR)\\nTCT = (LXJ, XLS)\\nHCL = (QQC, XXV)\\nCDX = (GHC, HXC)\\nXKR = (DPV, FFN)\\nDKQ = (VVX, PFQ)\\nTQV = (JMC, VFP)\\nMXF = (BVR, MBD)\\nLLX = (TKX, GFR)\\nCLR = (KQJ, RDQ)\\nFNG = (KPN, DMK)\\nDMF = (JNC, NKD)\\nXQR = (TCK, XLV)\\nMNS = (BPL, FCS)\\nXDR = (XVB, MNC)\\nKCF = (BXT, HTR)\\nTGH = (SKG, CCX)\\nTTC = (CBF, GXB)\\nGRP = (NJG, MPP)\\nNPC = (FPF, LRP)\\nJGS = (PBN, PBN)\\nDBS = (JLC, MQG)\\nJVQ = (NRP, PTQ)\\nHMG = (DSS, PRQ)\\nKGM = (DMF, TQF)\\nMQN = (XLQ, FQF)\\nTDJ = (GNM, GNM)\\nPFN = (GQF, XBC)\\nBTX = (JSD, XXK)\\nFDM = (FGK, FGK)\\nRDF = (RRS, CCF)\\nGPH = (RXM, KCF)\\nFLM = (GML, KKF)\\nVJG = (PFN, JRR)\\nXFM = (LPH, GQJ)\\nTNT = (VMM, FLM)\\nCNJ = (SLM, RDD)\\nCLJ = (DPT, CNJ)\\nXFN = (HDG, HDG)\\nHNQ = (PRK, CSP)\\nDRF = (KQM, KRG)\\nRDS = (JLT, HRF)\\nXJV = (LLX, GVC)\\nSHJ = (CNV, MJX)\\nNQK = (NFG, CKH)\\nXXX = (GRL, RHS)\\nGJC = (TLV, VNT)\\nSNF = (MTM, DJK)\\nKXR = (QTP, NHM)\\nPVL = (MBB, KXJ)\\nMSV = (GQM, XQR)\\nJSL = (HCQ, RQC)\\nLLV = (KDD, LMB)\\nHTN = (TLL, NLS)\\nKQJ = (TRF, HJF)\\nNKT = (HFN, FRS)\\nGKD = (BHF, RHQ)\\nQHT = (BSV, QGJ)\\nHHS = (TPT, MKQ)\\nCCF = (QXT, VVR)\\nDRP = (VVL, TFD)\\nNFS = (HFQ, KXN)\\nMFH = (TSC, TKG)\\nTXJ = (GXB, CBF)\\nBNM = (PKV, PQK)\\nTGT = (BRN, FTM)\\nSJF = (PGC, FQD)\\nCCX = (PDS, XHS)\\nFQF = (VQD, QJV)\\nLSB = (XLQ, FQF)\\nLBN = (MFK, HHS)\\nHBH = (DVJ, XGF)\\nNSJ = (TDN, JTF)\\nTLV = (SJF, LQH)\\nBVR = (RNX, KRN)\\nPLG = (FQQ, MPM)\\nKTT = (GLQ, HKK)\\nGQH = (GCN, NXL)\\nBLH = (FMJ, QTT)\\nPFQ = (LBN, DLL)\\nCMP = (PSS, THS)\\nKPX = (RHS, GRL)\\nFNB = (MPK, BDX)\\nKDD = (CMK, RHK)\\nTKG = (PHJ, FLC)\\nCXX = (TQV, NBV)\\nDQT = (JNL, MSP)\\nHXL = (FJG, FHJ)\\nNSS = (TGT, QJT)\\nQKP = (CQT, GRP)\\nJJN = (KKQ, FFV)\\nNLM = (SKR, VJZ)\\nXGF = (XDG, LGV)\\nBJG = (NKT, QSV)\\nLDQ = (KDD, LMB)\\nLSF = (DDL, HJG)\\nTQQ = (FQX, BDD)\\nHMK = (CXP, RPG)\\nZZZ = (RLN, BNG)\\nDKT = (NSS, HRQ)\\nLMB = (CMK, RHK)\\nMBJ = (XQF, BXH)\\nKHJ = (GPD, JNB)\\nKQM = (NST, CQF)\\nSPH = (PRK, CSP)\\nKSD = (HST, PSP)\\nQLG = (GCX, KKP)\\nRXF = (CLR, NVB)\\nBXH = (BQB, KXX)\\nJKC = (XGG, FMQ)\\nBPL = (JSC, HLV)\\nJPV = (QHT, BDJ)\\nQQA = (QHT, BDJ)\\nDPF = (THS, PSS)\\nMHM = (LDQ, LLV)\\nFJG = (JPV, JPV)\\nQTP = (MFH, RCS)\\nSMD = (XXP, XXP)\\nVXX = (MTQ, VPS)\\nFPF = (XPN, QXV)\\nVFX = (BBG, CXN)\\nDSS = (TTC, TXJ)\\nRLC = (VXX, KRJ)\\nCFH = (RXB, CLP)\\nDCG = (LQF, SHJ)\\nQHN = (NGT, XTD)\\nJNK = (QCT, GHQ)\\nFXL = (DSG, JGP)\\nRNV = (MXL, HBR)\\nTVL = (DVR, KCJ)\\nKCQ = (SMD, HQV)\\nKXJ = (CLD, XBR)\\nFGP = (GRR, QPL)\\nKVM = (MXJ, PKS)\\nDVR = (GXT, RMQ)\\nKJL = (SQH, JMS)\\nQQC = (SDH, TQH)\\nGNT = (MGL, JGQ)\\nKRG = (CQF, NST)\\nLXJ = (DKB, MMB)\\nXXT = (FPD, DRB)\\nCDS = (RRS, CCF)\\nKBL = (JQQ, JST)\\nDDL = (XBG, TLD)\\nDSG = (VFN, XCD)\\nGHX = (QHN, QQL)\\nBNG = (PLG, HHG)\\nMGL = (CLJ, KPR)\\nVCT = (RHQ, BHF)\\nPHR = (CLC, NLM)\\nVXQ = (FBR, TNJ)\\nGLC = (DPF, CMP)\\nQPV = (QSJ, LQD)\\nMTQ = (CXX, HDP)\\nJXJ = (LLL, JCJ)\\nLJJ = (HBR, MXL)\\nVPV = (DMD, KFQ)\\nJST = (BVD, GFK)\\nQQL = (NGT, XTD)\\nFHQ = (TXB, PLM)\\nVRL = (DBS, JFR)\\nMTF = (QSV, NKT)\\nXBG = (GPH, XTF)\\nPBN = (NVV, MSV)\\nTLQ = (FPD, DRB)\\nJBT = (JTX, KGM)\\nRSM = (VNJ, GXD)\\nBBR = (KPN, DMK)\\nDJK = (KLV, FLJ)\\nSKR = (CFN, PVL)\\nPKV = (TBN, FGP)\\nFBM = (SQH, JMS)\\nGLQ = (RDF, CDS)\\nNHC = (HMG, HPG)\\nVDC = (JRB, XBB)\\nKXN = (HDF, NRD)\\nDPG = (VRL, QJB)\\nQCQ = (GMH, JNK)\\nSSV = (GNT, RSS)\\nNDP = (TXS, NGG)\\nXBD = (LQF, SHJ)\\nXDG = (XKD, CQM)\\nCLP = (BHB, HFP)\\nPVC = (CHS, BTX)\\nCQM = (QHG, TCT)\\nGKH = (TKV, KXR)\\nLPH = (SHG, BLG)\\nNVQ = (CTR, JDS)\\nTVB = (MBJ, JHQ)\\nQSH = (TVS, LLP)\\nXPN = (FJK, HNH)\\nBNQ = (HNQ, SPH)\\nSCX = (RLC, RBF)\\nQKL = (JLK, NPC)\\nMFK = (MKQ, TPT)\\nMJF = (KVR, MHT)\\nQSJ = (TCP, TCP)\\nSTX = (SCX, HCV)\\nPSR = (GHX, JPX)\\nTQS = (KDV, LHH)\\nJFR = (JLC, MQG)\\nJTT = (JNK, GMH)\\nPGH = (QMF, TVL)\\nTXS = (XKB, SBR)\\nPKS = (MSX, CFS)\\nCFS = (VKJ, KBL)\\nJLT = (KHC, RXL)\\nGRL = (SGG, JKC)\\nLJH = (TMB, VPV)\\nMPK = (MFB, NGV)\\nCQL = (GPD, JNB)\\nMXJ = (CFS, MSX)\\nHBR = (FSQ, LSF)\\nKPN = (MVC, XQJ)\\nFPD = (VHV, XJV)\\nMDK = (GNM, PHR)\\nHGS = (STX, XQN)\\nNBV = (JMC, VFP)\\nRRV = (GLC, HJK)\\nTGD = (VPT, BBH)\\nPPA = (SLK, QLG)\\nSVF = (TNJ, FBR)\\nLCL = (CTK, RDS)\\nRHS = (JKC, SGG)\\nKKQ = (VQS, PHD)\\nJCJ = (KSD, NGR)\\nAAA = (BNG, RLN)\\nMRG = (GQJ, LPH)\\nHLV = (FNG, BBR)\\nVNP = (QBB, RSM)\\nVNT = (SJF, LQH)\\nGHQ = (GJC, PCP)\\nCPM = (DJK, MTM)\\nVVL = (BHN, NQM)\\nJTF = (KPX, XXX)\\nFFQ = (XXT, TLQ)\\nTXT = (FTB, GHH)\\nTGR = (VPB, QFM)\\nVTR = (BBH, VPT)\\nSBR = (JBQ, JSL)\\nFRS = (QXB, NNB)\\nJDS = (QBH, MHF)\\nGFK = (FDB, BXB)\\nTCP = (BNG, RLN)\\nRDD = (NHH, VCD)\\nCDF = (JGS, JGS)\\nNDM = (TFD, VVL)\\nTLL = (NVQ, MFT)\\nQJV = (FHV, BNS)\\nPSP = (LJJ, RNV)\\nNDC = (JSJ, XRB)\\nGVC = (TKX, GFR)\\nVQP = (DVP, RFK)\\nFTM = (TGH, HPH)\\nQMF = (DVR, KCJ)\\nHGB = (HRQ, NSS)\\nCVK = (BTX, CHS)\\nJNC = (HQM, PVH)\\nFJC = (TVS, LLP)\\nRPG = (FTX, VNP)\\nPGL = (BNM, LSS)\\nDXP = (PFQ, VVX)\\nJGQ = (CLJ, KPR)\\nTGS = (LJK, VTT)\\nBXB = (FJC, QSH)\\nQGB = (SPH, HNQ)\\nHJF = (QJJ, GFJ)\\nJMS = (MRD, XNP)\\nTHM = (FDM, MVM)\\nKKP = (CVK, PVC)\\nRNT = (MSM, HTC)\\nHDP = (NBV, TQV)\\nNRJ = (HRB, PBS)\\nHCV = (RBF, RLC)\\nMFF = (JNL, MSP)\\nSXM = (HJK, GLC)\\nTRF = (QJJ, GFJ)\\nKFT = (JRT, MHM)\\nPBS = (KLJ, FXK)\\nQRG = (JHQ, MBJ)\\nQJB = (DBS, JFR)\\nFSQ = (DDL, HJG)\\nVHV = (LLX, GVC)\\nCFT = (CMF, MNS)\\nKXX = (SBS, DXN)\\nMHT = (HFL, NQK)\\nSLR = (PBN, XBZ)\\nBDX = (NGV, MFB)\\nMVC = (LJH, JPN)\\nDRT = (PKS, MXJ)\\nVNJ = (HGS, CQJ)\\nXBC = (CDF, VJF)\\nLVJ = (XCM, HXH)\\nDVQ = (BBG, CXN)\\nHST = (LJJ, RNV)\\nQFM = (QRG, TVB)\\nRSS = (MGL, JGQ)\\nRJL = (TGR, MRH)\\nKDV = (BBV, KLX)\\nTPT = (NKG, MSF)\\nVMJ = (TDN, JTF)\\nVKJ = (JQQ, JST)\\nLMQ = (DTP, MTJ)\\nBHB = (XST, CDX)\\nPXR = (LLL, JCJ)\\nKRN = (BBJ, XPJ)\\nBSV = (JNR, TNT)\\nFHV = (VXQ, SVF)\\nTMB = (KFQ, DMD)\\nFSM = (XCM, HXH)\\nJMC = (HBP, SQS)\\nNBJ = (CFC, MCN)\\nLLL = (KSD, NGR)\\nXQN = (HCV, SCX)\\nCQJ = (STX, XQN)\\nDVJ = (LGV, XDG)\\nSGG = (FMQ, XGG)\\nKQT = (SNF, CPM)\\nXPK = (XFN, LHQ)\\nGQF = (CDF, CDF)\\nPPG = (DRX, LCL)\\nNLS = (MFT, NVQ)\\nHPG = (DSS, PRQ)\\nTNJ = (JHR, XMK)\\nJXL = (PLM, TXB)\\nLLP = (NSL, GKH)\\nXKB = (JSL, JBQ)\\nVMG = (GCN, NXL)\\nDMK = (MVC, XQJ)\\nMNC = (JXL, FHQ)\\nBBH = (NDP, FTR)\\nJLK = (LRP, FPF)\\nSBS = (JHP, SQD)\\nHFQ = (NRD, HDF)\\nMBD = (RNX, KRN)\\nBDD = (GDV, FHB)\\nMFB = (VMJ, NSJ)\\nJLC = (BPK, VQP)\\nXCD = (HTN, FPQ)\\nGPD = (JXH, JBT)\\nDXN = (JHP, SQD)\\nFCS = (JSC, HLV)\\nFMJ = (MFD, TXT)\\nMQG = (VQP, BPK)\\nBQB = (SBS, DXN)\\nMTM = (KLV, FLJ)\\nFSS = (BDD, FQX)\\nMHF = (SVK, CFT)\\nFDV = (LVJ, FSM)\\nPLV = (GRV, SJD)\\nXPJ = (BRQ, PSR)\\nVJF = (JGS, SLR)\\nXLV = (VTR, TGD)'"
      ]
     },
     "execution_count": 3,
     "metadata": {},
     "output_type": "execute_result"
    }
   ],
   "source": [
    "with open(\"input.txt\") as f:\n",
    "    data = f.read().strip()\n",
    "    \n",
    "data"
   ]
  },
  {
   "cell_type": "code",
   "execution_count": 4,
   "metadata": {},
   "outputs": [],
   "source": [
    "dirs = {'L': 0, 'R': 1}\n",
    "inst, graph = data.split(\"\\n\\n\")\n",
    "graph = {src:[destl[1:-1], destr[:-1]] \n",
    "         for src, _, destl, destr in [fork.split(' ') for fork in graph.split(\"\\n\")]}\n",
    "\n",
    "# inst, graph"
   ]
  },
  {
   "cell_type": "code",
   "execution_count": 26,
   "metadata": {},
   "outputs": [
    {
     "name": "stdout",
     "output_type": "stream",
     "text": [
      "Part 1: 16409\n"
     ]
    }
   ],
   "source": [
    "step = 0\n",
    "new_node = 'AAA'\n",
    "while True:\n",
    "    new_node = graph[new_node][dirs[inst[step%len(inst)]]]\n",
    "    step += 1\n",
    "    if new_node == 'ZZZ':\n",
    "        break\n",
    "print(\"Part 1:\", step)"
   ]
  },
  {
   "cell_type": "code",
   "execution_count": 29,
   "metadata": {},
   "outputs": [
    {
     "name": "stderr",
     "output_type": "stream",
     "text": [
      "100%|██████████| 6/6 [00:10<00:00,  1.67s/it]"
     ]
    },
    {
     "name": "stdout",
     "output_type": "stream",
     "text": [
      "Part 2:  11795205644011\n"
     ]
    },
    {
     "name": "stderr",
     "output_type": "stream",
     "text": [
      "\n"
     ]
    }
   ],
   "source": [
    "from math import lcm\n",
    "from tqdm import tqdm\n",
    "\n",
    "paths = [[(0, n)] for n in graph.keys() if n[-1] == 'A']\n",
    "node_cycles = []\n",
    "\n",
    "for p in tqdm(paths):\n",
    "    step = 0\n",
    "    while True:\n",
    "        new_node = [(step+1)%len(inst), graph[p[-1][1]][dirs[inst[step%len(inst)]]]]\n",
    "        if new_node in p:\n",
    "            end_node = next(i for i, (_, n) in enumerate(p) if n.endswith('Z'))\n",
    "            # print(new_node, len(p), end_node, p.index(new_node))\n",
    "            node_cycles += [end_node]\n",
    "            break\n",
    "\n",
    "        p += [new_node]\n",
    "        step += 1\n",
    "\n",
    "print(\"Part 2: \", lcm(*node_cycles))"
   ]
  },
  {
   "cell_type": "code",
   "execution_count": null,
   "metadata": {},
   "outputs": [],
   "source": []
  }
 ],
 "metadata": {
  "kernelspec": {
   "display_name": "Python 3",
   "language": "python",
   "name": "python3"
  },
  "language_info": {
   "codemirror_mode": {
    "name": "ipython",
    "version": 3
   },
   "file_extension": ".py",
   "mimetype": "text/x-python",
   "name": "python",
   "nbconvert_exporter": "python",
   "pygments_lexer": "ipython3",
   "version": "3.11.1"
  }
 },
 "nbformat": 4,
 "nbformat_minor": 2
}
