{
 "cells": [
  {
   "cell_type": "code",
   "execution_count": 36,
   "id": "9e31d8ab",
   "metadata": {},
   "outputs": [],
   "source": [
    "# data = \"\"\"two1nine\n",
    "# eightwothree\n",
    "# abcone2threexyz\n",
    "# xtwone3four\n",
    "# 4nineeightseven2\n",
    "# zoneight234\n",
    "# 7pqrstsixteen\"\"\"\n",
    "\n",
    "with open(\"input.txt\") as f:\n",
    "    data = f.read()"
   ]
  },
  {
   "cell_type": "code",
   "execution_count": 43,
   "id": "8d07bc5c",
   "metadata": {},
   "outputs": [
    {
     "name": "stdout",
     "output_type": "stream",
     "text": [
      "{'one': 1, 'two': 2, 'three': 3, 'four': 4, 'five': 5, 'six': 6, 'seven': 7, 'eight': 8, 'nine': 9}\n"
     ]
    }
   ],
   "source": [
    "digits = dict([d, i+1] \n",
    "              for i,d in enumerate([\"one\", \"two\", \"three\", \"four\", \"five\", \"six\", \"seven\", \"eight\", \"nine\"]))\n",
    "print(digits)"
   ]
  },
  {
   "cell_type": "code",
   "execution_count": 44,
   "id": "bcd4d5e6",
   "metadata": {},
   "outputs": [
    {
     "name": "stdout",
     "output_type": "stream",
     "text": [
      "54728\n"
     ]
    }
   ],
   "source": [
    "tot = 0\n",
    "\n",
    "for l in data.split():\n",
    "    _, first = min((l.find(str(val)), digits.get(val, val)) \n",
    "                   for val in digits.keys() | digits.values() \n",
    "                   if l.find(str(val)) >= 0)\n",
    "    _, last = max((l.rfind(str(val)), digits.get(val, val)) \n",
    "                  for val in digits.keys() | digits.values())\n",
    "    tot += first * 10 + last\n",
    "    \n",
    "print(tot)"
   ]
  },
  {
   "cell_type": "code",
   "execution_count": null,
   "id": "eebcbd70",
   "metadata": {},
   "outputs": [],
   "source": []
  }
 ],
 "metadata": {
  "kernelspec": {
   "display_name": "Python 3 (ipykernel)",
   "language": "python",
   "name": "python3"
  },
  "language_info": {
   "codemirror_mode": {
    "name": "ipython",
    "version": 3
   },
   "file_extension": ".py",
   "mimetype": "text/x-python",
   "name": "python",
   "nbconvert_exporter": "python",
   "pygments_lexer": "ipython3",
   "version": "3.9.18"
  }
 },
 "nbformat": 4,
 "nbformat_minor": 5
}
