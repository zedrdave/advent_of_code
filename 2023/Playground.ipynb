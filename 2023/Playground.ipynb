{
 "cells": [
  {
   "cell_type": "code",
   "execution_count": 36,
   "id": "9e31d8ab",
   "metadata": {},
   "outputs": [],
   "source": [
    "# data = \"\"\"two1nine\n",
    "# eightwothree\n",
    "# abcone2threexyz\n",
    "# xtwone3four\n",
    "# 4nineeightseven2\n",
    "# zoneight234\n",
    "# 7pqrstsixteen\"\"\"\n",
    "\n",
    "with open(\"input.txt\") as f:\n",
    "    data = f.read()"
   ]
  },
  {
   "cell_type": "code",
   "execution_count": 43,
   "id": "8d07bc5c",
   "metadata": {},
   "outputs": [
    {
     "name": "stdout",
     "output_type": "stream",
     "text": [
      "{'one': 1, 'two': 2, 'three': 3, 'four': 4, 'five': 5, 'six': 6, 'seven': 7, 'eight': 8, 'nine': 9}\n"
     ]
    }
   ],
   "source": [
    "digits = dict([d, i+1] \n",
    "              for i,d in enumerate([\"one\", \"two\", \"three\", \"four\", \"five\", \"six\", \"seven\", \"eight\", \"nine\"]))\n",
    "print(digits)"
   ]
  },
  {
   "cell_type": "code",
   "execution_count": 44,
   "id": "bcd4d5e6",
   "metadata": {},
   "outputs": [
    {
     "name": "stdout",
     "output_type": "stream",
     "text": [
      "54728\n"
     ]
    }
   ],
   "source": [
    "tot = 0\n",
    "\n",
    "for l in data.split():\n",
    "    _, first = min((l.find(str(val)), digits.get(val, val)) \n",
    "                   for val in digits.keys() | digits.values() \n",
    "                   if l.find(str(val)) >= 0)\n",
    "    _, last = max((l.rfind(str(val)), digits.get(val, val)) \n",
    "                  for val in digits.keys() | digits.values())\n",
    "    tot += first * 10 + last\n",
    "    \n",
    "print(tot)"
   ]
  },
  {
   "cell_type": "code",
   "execution_count": 66,
   "id": "eebcbd70",
   "metadata": {},
   "outputs": [],
   "source": [
    "data = \"\"\"Game 1: 3 blue, 4 red; 1 red, 2 green, 6 blue; 2 green\n",
    "Game 2: 1 blue, 2 green; 3 green, 4 blue, 1 red; 1 green, 1 blue\n",
    "Game 3: 8 green, 6 blue, 20 red; 5 blue, 4 red, 13 green; 5 green, 1 red\n",
    "Game 4: 1 green, 3 red, 6 blue; 3 green, 6 red; 3 green, 15 blue, 14 red\n",
    "Game 5: 6 red, 1 blue, 3 green; 2 blue, 1 red, 2 green\"\"\"\n",
    "\n",
    "max_cols = {\"red\": 12, \"green\": 13, \"blue\": 14}"
   ]
  },
  {
   "cell_type": "code",
   "execution_count": 79,
   "id": "fed9783d",
   "metadata": {},
   "outputs": [],
   "source": [
    "with open(\"02/input.txt\") as f:\n",
    "    data = f.read()"
   ]
  },
  {
   "cell_type": "code",
   "execution_count": 80,
   "id": "79b1a158",
   "metadata": {},
   "outputs": [
    {
     "data": {
      "text/plain": [
       "100"
      ]
     },
     "execution_count": 80,
     "metadata": {},
     "output_type": "execute_result"
    }
   ],
   "source": [
    "games = {}\n",
    "\n",
    "for l in data.splitlines():\n",
    "    game, sets = l.split(\":\")\n",
    "    game_id = int(game.replace(\"Game \", \"\"))\n",
    "    games[game_id] = []\n",
    "    for s in sets.split(\";\"):\n",
    "        round = {}\n",
    "        for pair in s.split(\",\"):\n",
    "            count, colour = pair.split()\n",
    "            round[colour] = int(count)\n",
    "        games[game_id].append(round)\n",
    "        \n",
    "len(games)"
   ]
  },
  {
   "cell_type": "code",
   "execution_count": 81,
   "id": "0fab8b9c",
   "metadata": {},
   "outputs": [
    {
     "data": {
      "text/plain": [
       "2268"
      ]
     },
     "execution_count": 81,
     "metadata": {},
     "output_type": "execute_result"
    }
   ],
   "source": [
    "sum(id for id,g in games.items() if all(round[colour] <= max_cols[colour] for round in g for colour in round))"
   ]
  },
  {
   "cell_type": "code",
   "execution_count": 82,
   "id": "22b359d3",
   "metadata": {},
   "outputs": [],
   "source": [
    "balls = [[(colour, round[colour]) for round in g for colour in round] for g in games.values()]"
   ]
  },
  {
   "cell_type": "code",
   "execution_count": 83,
   "id": "9e40d3a6",
   "metadata": {},
   "outputs": [
    {
     "name": "stdout",
     "output_type": "stream",
     "text": [
      "63542\n"
     ]
    }
   ],
   "source": [
    "tot_power = 0\n",
    "\n",
    "for g in games.values():\n",
    "    min_cols = {c:0 for c in max_cols.keys()}\n",
    "    for round in g:\n",
    "        for colour, count in round.items():\n",
    "            min_cols[colour] = max(min_cols[colour], count)\n",
    "    # product of all values\n",
    "    tot_power += min_cols[\"red\"] * min_cols[\"green\"] * min_cols[\"blue\"]\n",
    "    \n",
    "print(tot_power)"
   ]
  },
  {
   "cell_type": "code",
   "execution_count": 197,
   "id": "d0e99ca5",
   "metadata": {},
   "outputs": [],
   "source": [
    "data = \"\"\"467..114..\n",
    "...*......\n",
    "..35..633.\n",
    "......#...\n",
    "617*......\n",
    ".....+.58.\n",
    "..592.....\n",
    "......755.\n",
    "...$.*....\n",
    ".664.598..\"\"\""
   ]
  },
  {
   "cell_type": "code",
   "execution_count": 198,
   "id": "dfd6278b",
   "metadata": {},
   "outputs": [],
   "source": [
    "with open(\"03/input.txt\") as f:\n",
    "    data = f.read()\n",
    "    \n",
    "# print(data)"
   ]
  },
  {
   "cell_type": "code",
   "execution_count": 199,
   "id": "978287b9",
   "metadata": {},
   "outputs": [],
   "source": [
    "grid = [list(l) for l in data.splitlines()]\n",
    "max_x = len(grid)\n",
    "max_y = len(grid[0])\n",
    "digits = \"0123456789\"\n",
    "# print(grid)"
   ]
  },
  {
   "cell_type": "code",
   "execution_count": 200,
   "id": "994aaa93",
   "metadata": {},
   "outputs": [],
   "source": [
    "# tot = 0\n",
    "\n",
    "# for x in range(max_x):\n",
    "#     for y in range(max_y):\n",
    "#         if grid[y][x] in f\".{digits}\":\n",
    "#             continue\n",
    "#         for dx in (-1, 0, 1):\n",
    "#             for dy in (-1, 0, 1):\n",
    "#                 if x+dx < 0 or y+dy < 0 or x+dx >= max_x or y+dy >= max_y:\n",
    "#                     continue\n",
    "#                 if dx == 0 and dy == 0:\n",
    "#                     continue\n",
    "#                 if grid[y+dy][x+dx] not in digits:\n",
    "#                     continue\n",
    "#                 dx1, dx2 = dx, dx\n",
    "#                 while x+dx1 >= 0 and grid[y+dy][x+dx1] in digits:\n",
    "#                     dx1 -= 1\n",
    "#                 dx1 += 1\n",
    "#                 while x+dx2 < max_x and grid[y+dy][x+dx2] in digits:\n",
    "#                     dx2 += 1\n",
    "\n",
    "#                 # print(f\"x = {x}, y = {y}, dx = {dx}, dy = {dy}, dx1 = {dx1}, dx2 = {dx2}\")\n",
    "#                 # for y0 in range(y+dy-2, y+dy+2):\n",
    "#                 #     if y0 < 0 or y0 >= max_y:\n",
    "#                 #         continue\n",
    "#                 #     for x0 in range(x+dx1-1, x+dx2+1):\n",
    "#                 #         if x0 < 0 or x0 >= max_x:\n",
    "#                 #             continue\n",
    "#                 #         print(grid[y0][x0], end=\"\")\n",
    "#                 #     print()\n",
    "                \n",
    "#                 num = int(\"\".join(grid[y+dy][x+dx1:x+dx2]))\n",
    "#                 # print(f\"Adding: {num} {grid[y][x]} [{y+dy}][{x+dx1}:{x+dx2}]\")\n",
    "#                 # print(\"---\")\n",
    "#                 tot += num\n",
    "#                 for dx0 in range(dx1, dx2):\n",
    "#                     grid[y+dy][x+dx0] = \".\"\n",
    "\n",
    "\n",
    "# print(tot)"
   ]
  },
  {
   "cell_type": "code",
   "execution_count": 201,
   "id": "2141ad70",
   "metadata": {},
   "outputs": [
    {
     "name": "stdout",
     "output_type": "stream",
     "text": [
      "81166799\n"
     ]
    }
   ],
   "source": [
    "tot = 0\n",
    "\n",
    "for x in range(max_x):\n",
    "    for y in range(max_y):\n",
    "        if grid[y][x] != \"*\":\n",
    "            continue\n",
    "        parts = []\n",
    "        for dx in (-1, 0, 1):\n",
    "            for dy in (-1, 0, 1):\n",
    "                if x+dx < 0 or y+dy < 0 or x+dx >= max_x or y+dy >= max_y:\n",
    "                    continue\n",
    "                if dx == 0 and dy == 0:\n",
    "                    continue\n",
    "                if grid[y+dy][x+dx] not in digits:\n",
    "                    continue\n",
    "                dx1, dx2 = dx, dx\n",
    "                while x+dx1 >= 0 and grid[y+dy][x+dx1] in digits:\n",
    "                    dx1 -= 1\n",
    "                dx1 += 1\n",
    "                while x+dx2 < max_x and grid[y+dy][x+dx2] in digits:\n",
    "                    dx2 += 1\n",
    "                \n",
    "                num = int(\"\".join(grid[y+dy][x+dx1:x+dx2]))\n",
    "                # print(f\"Adding: {num} {grid[y][x]} [{y+dy}][{x+dx1}:{x+dx2}]\")\n",
    "                # print(\"---\")\n",
    "                parts.append(num)\n",
    "                for dx0 in range(dx1, dx2):\n",
    "                    grid[y+dy][x+dx0] = \".\"\n",
    "        if len(parts) == 2:\n",
    "            tot += parts[0] * parts[1]\n",
    "\n",
    "print(tot)"
   ]
  },
  {
   "cell_type": "code",
   "execution_count": null,
   "id": "e982d2b9",
   "metadata": {},
   "outputs": [],
   "source": []
  }
 ],
 "metadata": {
  "kernelspec": {
   "display_name": "Python 3 (ipykernel)",
   "language": "python",
   "name": "python3"
  },
  "language_info": {
   "codemirror_mode": {
    "name": "ipython",
    "version": 3
   },
   "file_extension": ".py",
   "mimetype": "text/x-python",
   "name": "python",
   "nbconvert_exporter": "python",
   "pygments_lexer": "ipython3",
   "version": "3.10.9"
  }
 },
 "nbformat": 4,
 "nbformat_minor": 5
}
