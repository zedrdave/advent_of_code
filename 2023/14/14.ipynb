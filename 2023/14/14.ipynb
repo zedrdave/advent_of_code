{
 "cells": [
  {
   "cell_type": "code",
   "execution_count": 125,
   "metadata": {},
   "outputs": [],
   "source": [
    "data = \"\"\"O....#....\n",
    "O.OO#....#\n",
    ".....##...\n",
    "OO.#O....O\n",
    ".O.....O#.\n",
    "O.#..O.#.#\n",
    "..O..#O..O\n",
    ".......O..\n",
    "#....###..\n",
    "#OO..#....\"\"\""
   ]
  },
  {
   "cell_type": "code",
   "execution_count": 119,
   "metadata": {},
   "outputs": [],
   "source": [
    "with open(\"input.txt\") as f:\n",
    "    data = f.read().strip()"
   ]
  },
  {
   "cell_type": "code",
   "execution_count": 126,
   "metadata": {},
   "outputs": [],
   "source": [
    "def print_grid(G):\n",
    "    for line in G:\n",
    "        print(''.join(line))\n",
    "    print()"
   ]
  },
  {
   "cell_type": "code",
   "execution_count": 127,
   "metadata": {},
   "outputs": [],
   "source": [
    "# def rotate_grid_ccw(G):\n",
    "#     return list([list(l) for l in zip(*G)])[::-1]\n",
    "\n",
    "def rotate_grid_cw(G):\n",
    "    return list([list(l) for l in zip(*G[::-1])])"
   ]
  },
  {
   "cell_type": "code",
   "execution_count": 128,
   "metadata": {},
   "outputs": [],
   "source": [
    "# grid = [list(l) for l in data.split(\"\\n\")]\n",
    "\n",
    "# print_grid(grid)\n",
    "\n",
    "# print_grid(rotate_grid_cw(grid))"
   ]
  },
  {
   "cell_type": "code",
   "execution_count": 132,
   "metadata": {},
   "outputs": [
    {
     "name": "stdout",
     "output_type": "stream",
     "text": [
      "Found it\n",
      "3 11 8\n",
      "1000000000 -> 8\n",
      "63\n"
     ]
    }
   ],
   "source": [
    "grid = [list(l) for l in data.split(\"\\n\")]\n",
    "\n",
    "# print_grid(grid)\n",
    "\n",
    "history = []\n",
    "tot_cycles = 1000000000\n",
    "\n",
    "for cycle in range(tot_cycles):\n",
    "    for orient in range(4):\n",
    "        for y in range(len(grid)):\n",
    "            for x,c in enumerate(grid[y]):\n",
    "                if c == \"O\":\n",
    "                    new_y = y + 1 - next((i for i in range(1, y+2) if i > y or grid[y-i][x] != \".\"), 1)\n",
    "                    if new_y != y:\n",
    "                        grid[y][x] = \".\"\n",
    "                        grid[new_y][x] = \"O\"\n",
    "        grid = rotate_grid_cw(grid)\n",
    "    \n",
    "    grid_str = '\\n'.join(''.join(l) for l in grid)\n",
    "    if grid_str in history:\n",
    "        print(\"Found it\")\n",
    "        break\n",
    "    history.append((grid_str))\n",
    "    \n",
    "cycle_start, cycle_end = history.index(grid_str)+1, cycle+2\n",
    "cycle_len = cycle_end - cycle_start\n",
    "\n",
    "print(cycle_start, cycle_end, cycle_len)\n",
    "\n",
    "print(f\"{tot_cycles} -> {cycle_start + ((tot_cycles-cycle_start) % cycle_len)}\")\n",
    "\n",
    "grid = [list(l) for l in data.split(\"\\n\")]\n",
    "\n",
    "for cycle in range(cycle_start - 1 + ((tot_cycles - cycle_start + 1) % cycle_len)):\n",
    "    for orient in range(4):\n",
    "        for y in range(len(grid)):\n",
    "            for x,c in enumerate(grid[y]):\n",
    "                if c == \"O\":\n",
    "                    new_y = y + 1 - next((i for i in range(1, y+2) if i > y or grid[y-i][x] != \".\"), 1)\n",
    "                    if new_y != y:\n",
    "                        grid[y][x] = \".\"\n",
    "                        grid[new_y][x] = \"O\"\n",
    "        grid = rotate_grid_cw(grid)\n",
    "    \n",
    "# print_grid(grid)\n",
    "\n",
    "print(sum((len(grid)-y) * sum(1 for c in l if c == \"O\") for y,l in enumerate(grid)))\n"
   ]
  },
  {
   "cell_type": "code",
   "execution_count": 107,
   "metadata": {},
   "outputs": [
    {
     "data": {
      "text/plain": [
       "9"
      ]
     },
     "execution_count": 107,
     "metadata": {},
     "output_type": "execute_result"
    }
   ],
   "source": []
  },
  {
   "cell_type": "code",
   "execution_count": 45,
   "metadata": {},
   "outputs": [
    {
     "data": {
      "text/plain": [
       "(1592, 1592)"
      ]
     },
     "execution_count": 45,
     "metadata": {},
     "output_type": "execute_result"
    }
   ],
   "source": [
    "grid_orig = [list(l) for l in data.split(\"\\n\")]\n",
    "\n",
    "sum(sum(1 for c in l if c == \"#\") for l in grid_orig), sum(sum(1 for c in l if c == \"#\") for l in grid)"
   ]
  },
  {
   "cell_type": "code",
   "execution_count": 50,
   "metadata": {},
   "outputs": [
    {
     "data": {
      "text/plain": [
       "0"
      ]
     },
     "execution_count": 50,
     "metadata": {},
     "output_type": "execute_result"
    }
   ],
   "source": [
    "len(grid[-1])"
   ]
  },
  {
   "cell_type": "code",
   "execution_count": null,
   "metadata": {},
   "outputs": [],
   "source": []
  }
 ],
 "metadata": {
  "kernelspec": {
   "display_name": "Python 3",
   "language": "python",
   "name": "python3"
  },
  "language_info": {
   "codemirror_mode": {
    "name": "ipython",
    "version": 3
   },
   "file_extension": ".py",
   "mimetype": "text/x-python",
   "name": "python",
   "nbconvert_exporter": "python",
   "pygments_lexer": "ipython3",
   "version": "3.11.5"
  }
 },
 "nbformat": 4,
 "nbformat_minor": 2
}
