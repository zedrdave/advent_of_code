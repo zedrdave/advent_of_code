{
 "cells": [
  {
   "cell_type": "code",
   "execution_count": 1,
   "metadata": {},
   "outputs": [],
   "source": [
    "data = \"\"\"O....#....\n",
    "O.OO#....#\n",
    ".....##...\n",
    "OO.#O....O\n",
    ".O.....O#.\n",
    "O.#..O.#.#\n",
    "..O..#O..O\n",
    ".......O..\n",
    "#....###..\n",
    "#OO..#....\"\"\""
   ]
  },
  {
   "cell_type": "code",
   "execution_count": 2,
   "metadata": {},
   "outputs": [],
   "source": [
    "with open(\"input.txt\") as f:\n",
    "    data = f.read().strip()"
   ]
  },
  {
   "cell_type": "code",
   "execution_count": 3,
   "metadata": {},
   "outputs": [],
   "source": [
    "def print_grid(G):\n",
    "    for line in G:\n",
    "        print(''.join(line))\n",
    "    print()"
   ]
  },
  {
   "cell_type": "code",
   "execution_count": 4,
   "metadata": {},
   "outputs": [
    {
     "name": "stdout",
     "output_type": "stream",
     "text": [
      "Part 1: 110821\n",
      "Part 2: 83516\n"
     ]
    }
   ],
   "source": [
    "def tilt_grid(grid):\n",
    "    for y in range(len(grid)):\n",
    "        for x,c in enumerate(grid[y]):\n",
    "            if c == \"O\":\n",
    "                new_y = y + 1 - next((i for i in range(1, y+2) if i > y or grid[y-i][x] != \".\"), 1)\n",
    "                if new_y != y:\n",
    "                    grid[y][x] = \".\"\n",
    "                    grid[new_y][x] = \"O\"\n",
    "    return grid\n",
    "\n",
    "def compute_load(grid):\n",
    "    return sum((len(grid)-y) * sum(1 for c in l if c == \"O\") for y,l in enumerate(grid))\n",
    "\n",
    "\n",
    "def get_load_with_cycles(grid, tot_cycles):\n",
    "    history = []\n",
    "    for cycle in range(tot_cycles):\n",
    "        for _ in range(4):\n",
    "            tilt_grid(grid)\n",
    "            # Rotate CCW:\n",
    "            grid = list([list(l) for l in zip(*grid[::-1])])\n",
    "        \n",
    "        grid_str = '\\n'.join(''.join(l) for l in grid)\n",
    "        if grid_str in history:\n",
    "            break\n",
    "        history.append((grid_str))\n",
    "    \n",
    "    cycle_start, cycle_end = history.index(grid_str), cycle\n",
    "    cycle_len = cycle_end - cycle_start\n",
    "\n",
    "    grid = history[cycle_start + ((tot_cycles - 1 - cycle_start) % cycle_len)].split('\\n')\n",
    "\n",
    "    return compute_load(grid)\n",
    "\n",
    "\n",
    "tilted = tilt_grid([list(l) for l in data.split(\"\\n\")])\n",
    "print(\"Part 1:\", compute_load(tilted))\n",
    "\n",
    "print(\"Part 2:\", get_load_with_cycles([list(l) for l in data.split(\"\\n\")], 1000000000))"
   ]
  }
 ],
 "metadata": {
  "kernelspec": {
   "display_name": "Python 3",
   "language": "python",
   "name": "python3"
  },
  "language_info": {
   "codemirror_mode": {
    "name": "ipython",
    "version": 3
   },
   "file_extension": ".py",
   "mimetype": "text/x-python",
   "name": "python",
   "nbconvert_exporter": "python",
   "pygments_lexer": "ipython3",
   "version": "3.11.1"
  }
 },
 "nbformat": 4,
 "nbformat_minor": 2
}
