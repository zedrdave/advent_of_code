{
 "cells": [
  {
   "cell_type": "code",
   "execution_count": 39,
   "metadata": {},
   "outputs": [],
   "source": [
    "data = \"\"\"...#......\n",
    ".......#..\n",
    "#.........\n",
    "..........\n",
    "......#...\n",
    ".#........\n",
    ".........#\n",
    "..........\n",
    ".......#..\n",
    "#...#.....\"\"\""
   ]
  },
  {
   "cell_type": "code",
   "execution_count": 48,
   "metadata": {},
   "outputs": [],
   "source": [
    "with open('input.txt') as f:\n",
    "    data = f.read()"
   ]
  },
  {
   "cell_type": "code",
   "execution_count": 49,
   "metadata": {},
   "outputs": [],
   "source": [
    "def print_grid(grid):\n",
    "    for y in range(0, max(y for _, y in grid) + 1):\n",
    "        for x in range(0, max(x for x, _ in grid) + 1):\n",
    "            print('#' if (x,y) in grid else '.', end='')\n",
    "        print()\n",
    "    "
   ]
  },
  {
   "cell_type": "code",
   "execution_count": 57,
   "metadata": {},
   "outputs": [
    {
     "name": "stdout",
     "output_type": "stream",
     "text": [
      "742305960572\n"
     ]
    }
   ],
   "source": [
    "G = [(x, y) for y, line in enumerate(data.splitlines()) for x, c in enumerate(line) if c == '#']\n",
    "expand = 1000000 - 1\n",
    "\n",
    "for x in range(max(x for x, _ in G), 0, -1):\n",
    "    if not any(True for xx, _ in G if xx == x):\n",
    "        G = [(xx + expand, yy) if xx > x else (xx, yy) for xx, yy in G]\n",
    "\n",
    "for y in range(max(y for _, y in G), 0, -1):\n",
    "    if not any(True for _, yy in G if yy == y):\n",
    "        G = [(xx, yy + expand) if yy > y else (xx, yy) for xx, yy in G]\n",
    "\n",
    "\n",
    "dist = 0\n",
    "while len(G) > 1:\n",
    "    x,y = G.pop()\n",
    "    dist += sum(abs(x-xx)+abs(y-yy) for xx, yy in G)\n",
    "\n",
    "print(dist)"
   ]
  },
  {
   "cell_type": "code",
   "execution_count": null,
   "metadata": {},
   "outputs": [],
   "source": []
  },
  {
   "cell_type": "markdown",
   "metadata": {},
   "source": []
  },
  {
   "cell_type": "code",
   "execution_count": null,
   "metadata": {},
   "outputs": [],
   "source": []
  },
  {
   "cell_type": "code",
   "execution_count": null,
   "metadata": {},
   "outputs": [],
   "source": []
  },
  {
   "cell_type": "code",
   "execution_count": null,
   "metadata": {},
   "outputs": [],
   "source": []
  }
 ],
 "metadata": {
  "kernelspec": {
   "display_name": "Python 3",
   "language": "python",
   "name": "python3"
  },
  "language_info": {
   "codemirror_mode": {
    "name": "ipython",
    "version": 3
   },
   "file_extension": ".py",
   "mimetype": "text/x-python",
   "name": "python",
   "nbconvert_exporter": "python",
   "pygments_lexer": "ipython3",
   "version": "3.11.1"
  }
 },
 "nbformat": 4,
 "nbformat_minor": 2
}
