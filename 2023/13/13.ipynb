{
 "cells": [
  {
   "cell_type": "code",
   "execution_count": 50,
   "metadata": {},
   "outputs": [],
   "source": [
    "# data = \"\"\"#.##..##.\n",
    "# ..#.##.#.\n",
    "# ##......#\n",
    "# ##......#\n",
    "# ..#.##.#.\n",
    "# ..##..##.\n",
    "# #.#.##.#.\n",
    "\n",
    "# #...##..#\n",
    "# #....#..#\n",
    "# ..##..###\n",
    "# #####.##.\n",
    "# #####.##.\n",
    "# ..##..###\n",
    "# #....#..#\"\"\""
   ]
  },
  {
   "cell_type": "code",
   "execution_count": 68,
   "metadata": {},
   "outputs": [],
   "source": [
    "with open(\"input.txt\") as f:\n",
    "    data = f.read()"
   ]
  },
  {
   "cell_type": "code",
   "execution_count": 69,
   "metadata": {},
   "outputs": [],
   "source": [
    "patterns_h = [p.splitlines() for p in data.split(\"\\n\\n\")]"
   ]
  },
  {
   "cell_type": "code",
   "execution_count": 70,
   "metadata": {},
   "outputs": [],
   "source": [
    "patterns_v = [p.split('\\n') for p in data.strip().split(\"\\n\\n\")]\n",
    "patterns_v = [[''.join(l[i] for l in p) for i in range(len(p[0]))] for p in patterns_v]"
   ]
  },
  {
   "cell_type": "code",
   "execution_count": 76,
   "metadata": {},
   "outputs": [
    {
     "name": "stdout",
     "output_type": "stream",
     "text": [
      "Part 1: 34911\n",
      "Part 1: 33183\n"
     ]
    }
   ],
   "source": [
    "def find_symmetry(p, with_smudge=False):\n",
    "    for l in range(1, len(p)):\n",
    "        d = 0\n",
    "        smudged = False\n",
    "        while l-d-1 >= 0 and l+d < len(p):\n",
    "            if p[l-d-1] == p[l+d]:\n",
    "                d += 1\n",
    "            elif with_smudge and not smudged and sum(a != b for a, b in zip(p[l-d-1], p[l+d])) == 1:\n",
    "                d += 1\n",
    "                smudged = True\n",
    "            else:\n",
    "                break\n",
    "        if (not with_smudge or smudged) and (d == l or l+d == len(p)):\n",
    "            return l\n",
    "    return False\n",
    "\n",
    "print(\"Part 1:\", \n",
    "      sum(find_symmetry(pv) or find_symmetry(ph) * 100 \n",
    "          for ph, pv in zip(patterns_h, patterns_v)))\n",
    "\n",
    "print(\"Part 2:\", \n",
    "      sum(find_symmetry(pv, True) or find_symmetry(ph, True) * 100 \n",
    "          for ph, pv in zip(patterns_h, patterns_v)))\n"
   ]
  },
  {
   "cell_type": "code",
   "execution_count": null,
   "metadata": {},
   "outputs": [],
   "source": []
  }
 ],
 "metadata": {
  "kernelspec": {
   "display_name": "Python 3",
   "language": "python",
   "name": "python3"
  },
  "language_info": {
   "codemirror_mode": {
    "name": "ipython",
    "version": 3
   },
   "file_extension": ".py",
   "mimetype": "text/x-python",
   "name": "python",
   "nbconvert_exporter": "python",
   "pygments_lexer": "ipython3",
   "version": "3.11.1"
  }
 },
 "nbformat": 4,
 "nbformat_minor": 2
}
