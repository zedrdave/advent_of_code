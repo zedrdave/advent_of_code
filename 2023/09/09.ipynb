{
 "cells": [
  {
   "cell_type": "code",
   "execution_count": 1,
   "metadata": {},
   "outputs": [],
   "source": [
    "from collections import Counter"
   ]
  },
  {
   "cell_type": "code",
   "execution_count": 23,
   "metadata": {},
   "outputs": [],
   "source": [
    "# data = \"\"\"0 3 6 9 12 15\n",
    "# 1 3 6 10 15 21\n",
    "# 10 13 16 21 30 45\"\"\""
   ]
  },
  {
   "cell_type": "code",
   "execution_count": 36,
   "metadata": {},
   "outputs": [],
   "source": [
    "with open(\"input.txt\") as f:\n",
    "    data = f.read().strip()\n",
    "    \n",
    "# data"
   ]
  },
  {
   "cell_type": "code",
   "execution_count": 37,
   "metadata": {},
   "outputs": [],
   "source": [
    "histories = [[int(i) for i in l.split()] for l in data.split(\"\\n\")]"
   ]
  },
  {
   "cell_type": "code",
   "execution_count": 35,
   "metadata": {},
   "outputs": [
    {
     "name": "stdout",
     "output_type": "stream",
     "text": [
      "Part 1:  1762065988\n",
      "Part 2:  1066\n"
     ]
    }
   ],
   "source": [
    "def recur_val(nums, forward=True):    \n",
    "    if all(d == 0 for d in nums):\n",
    "        return 0\n",
    "\n",
    "    diffs = [nums[i] - nums[i-1] for i in range(1, len(nums))]\n",
    "    recur = recur_val(diffs, forward=forward)\n",
    "    if forward:\n",
    "        return nums[-1]+recur\n",
    "    else:\n",
    "        return nums[0]-recur\n",
    "\n",
    "print(\"Part 1: \", sum(recur_val(h, forward=True) for h in histories))\n",
    "print(\"Part 2: \", sum(recur_val(h, forward=False) for h in histories))"
   ]
  },
  {
   "cell_type": "code",
   "execution_count": null,
   "metadata": {},
   "outputs": [],
   "source": []
  }
 ],
 "metadata": {
  "kernelspec": {
   "display_name": "Python 3",
   "language": "python",
   "name": "python3"
  },
  "language_info": {
   "codemirror_mode": {
    "name": "ipython",
    "version": 3
   },
   "file_extension": ".py",
   "mimetype": "text/x-python",
   "name": "python",
   "nbconvert_exporter": "python",
   "pygments_lexer": "ipython3",
   "version": "3.11.1"
  }
 },
 "nbformat": 4,
 "nbformat_minor": 2
}
