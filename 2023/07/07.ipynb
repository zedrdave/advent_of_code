{
 "cells": [
  {
   "cell_type": "code",
   "execution_count": 1,
   "metadata": {},
   "outputs": [],
   "source": [
    "from collections import Counter"
   ]
  },
  {
   "cell_type": "code",
   "execution_count": 2,
   "metadata": {},
   "outputs": [],
   "source": [
    "# data = \"\"\"32T3K 765\n",
    "# T55J5 684\n",
    "# KK677 28\n",
    "# KTJJT 220\n",
    "# QQQJA 483\"\"\""
   ]
  },
  {
   "cell_type": "code",
   "execution_count": 3,
   "metadata": {},
   "outputs": [],
   "source": [
    "with open(\"input.txt\") as f:\n",
    "    data = f.read()"
   ]
  },
  {
   "cell_type": "code",
   "execution_count": 4,
   "metadata": {},
   "outputs": [
    {
     "name": "stdout",
     "output_type": "stream",
     "text": [
      "Part 1: 250232501\n",
      "Part 2: 249138943\n"
     ]
    }
   ],
   "source": [
    "def score(hand):\n",
    "    return sorted(Counter(hand).values(), reverse=True)\n",
    "\n",
    "def apply_joker(hand):\n",
    "    m = Counter(hand.replace('J', '')).most_common(1)\n",
    "    if len(m) == 0:\n",
    "        return hand\n",
    "    return hand.replace('J', m[0][0])\n",
    "\n",
    "def solve(data, card_order, fn):\n",
    "    S = {c: 13-r for r, c in enumerate(card_order)}\n",
    "    \n",
    "    hands = sorted(([*fn(hand), *[S[c] for c in hand]],\n",
    "                    int(bet)) \n",
    "                for hand, bet in [l.split() for l in data.splitlines()])\n",
    "\n",
    "    return sum((rank+1) * bet for rank, (_, bet) in enumerate(hands))\n",
    "\n",
    "\n",
    "print(f\"Part 1: {solve(data, 'AKQJT98765432', score)}\")\n",
    " \n",
    "print(f\"Part 2: {solve(data, 'AKQT98765432J', lambda x: score(apply_joker(x)))}\")"
   ]
  }
 ],
 "metadata": {
  "kernelspec": {
   "display_name": "Python 3",
   "language": "python",
   "name": "python3"
  },
  "language_info": {
   "codemirror_mode": {
    "name": "ipython",
    "version": 3
   },
   "file_extension": ".py",
   "mimetype": "text/x-python",
   "name": "python",
   "nbconvert_exporter": "python",
   "pygments_lexer": "ipython3",
   "version": "3.11.1"
  }
 },
 "nbformat": 4,
 "nbformat_minor": 2
}
